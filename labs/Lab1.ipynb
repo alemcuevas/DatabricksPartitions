{
 "cells": [
  {
   "cell_type": "markdown",
   "metadata": {
    "application/vnd.databricks.v1+cell": {
     "cellMetadata": {},
     "inputWidgets": {},
     "nuid": "de3c604a-8dcf-42c6-a4c2-46b3c18a9a02",
     "showTitle": false,
     "title": ""
    }
   },
   "source": [
    "# Configuración del entorno"
   ]
  },
  {
   "cell_type": "code",
   "execution_count": 0,
   "metadata": {
    "application/vnd.databricks.v1+cell": {
     "cellMetadata": {
      "byteLimit": 2048000,
      "rowLimit": 10000
     },
     "inputWidgets": {},
     "nuid": "352b55d4-e91f-4ea1-89c8-53cef6fd89e0",
     "showTitle": false,
     "title": ""
    }
   },
   "outputs": [],
   "source": [
    "# List\n",
    "dbutils.fs.mounts()\n"
   ]
  },
  {
   "cell_type": "code",
   "execution_count": 0,
   "metadata": {
    "application/vnd.databricks.v1+cell": {
     "cellMetadata": {
      "byteLimit": 2048000,
      "rowLimit": 10000
     },
     "inputWidgets": {},
     "nuid": "86e36824-85d4-484e-bf54-f03ef60943ed",
     "showTitle": false,
     "title": ""
    }
   },
   "outputs": [
    {
     "output_type": "stream",
     "name": "stdout",
     "output_type": "stream",
     "text": [
      "/mnt/datalake has been unmounted.\n"
     ]
    },
    {
     "output_type": "execute_result",
     "data": {
      "text/plain": [
       "True"
      ]
     },
     "execution_count": 4,
     "metadata": {},
     "output_type": "execute_result"
    }
   ],
   "source": [
    "# Unmount\n",
    "dbutils.fs.unmount(\"/mnt/\")\n"
   ]
  },
  {
   "cell_type": "code",
   "execution_count": 0,
   "metadata": {
    "application/vnd.databricks.v1+cell": {
     "cellMetadata": {
      "byteLimit": 2048000,
      "rowLimit": 10000
     },
     "inputWidgets": {},
     "nuid": "be2662e9-3832-4b95-b3c0-3921cbceffe1",
     "showTitle": false,
     "title": ""
    }
   },
   "outputs": [
    {
     "output_type": "execute_result",
     "data": {
      "text/plain": [
       "True"
      ]
     },
     "execution_count": 5,
     "metadata": {},
     "output_type": "execute_result"
    }
   ],
   "source": [
    "# Montar el contenedor de Azure Data Lake Storage (ADLS)\n",
    "dbutils.fs.mount(\n",
    "    source = \"\",\n",
    "    mount_point = \"/mnt/\",\n",
    "    extra_configs = {\"\": \"\"}\n",
    ")\n",
    "\n"
   ]
  },
  {
   "cell_type": "code",
   "execution_count": 0,
   "metadata": {
    "application/vnd.databricks.v1+cell": {
     "cellMetadata": {
      "byteLimit": 2048000,
      "rowLimit": 10000
     },
     "inputWidgets": {},
     "nuid": "6e4e36e3-2f7b-465d-84cf-20d48344fd2b",
     "showTitle": false,
     "title": ""
    }
   },
   "outputs": [
    {
     "output_type": "stream",
     "name": "stdout",
     "output_type": "stream",
     "text": [
      "+---+----------+-----------+--------------+------------+-----+--------+------------+\n|_c0|      Date|Customer_ID|Transaction_ID|SKU_Category|  SKU|Quantity|Sales_Amount|\n+---+----------+-----------+--------------+------------+-----+--------+------------+\n|  1|2016-01-02|       2547|             1|         X52|0EM7L|     1.0|        3.13|\n|  2|2016-01-02|        822|             2|         2ML|68BRQ|     1.0|        5.46|\n|  3|2016-01-02|       3686|             3|         0H2|CZUZX|     1.0|        6.35|\n|  4|2016-01-02|       3719|             4|         0H2|549KK|     1.0|        5.59|\n|  5|2016-01-02|       9200|             5|         0H2|K8EHH|     1.0|        6.88|\n+---+----------+-----------+--------------+------------+-----+--------+------------+\nonly showing top 5 rows\n\n"
     ]
    }
   ],
   "source": [
    "\n",
    "# Cargar el dataset desde Azure Data Lake Storage\n",
    "df = spark.read.csv(\"/mnt/datalake/retail_dataset.csv\", header=True, inferSchema=True)\n",
    "\n",
    "# Mostrar las primeras filas del dataset\n",
    "df.show(5)"
   ]
  },
  {
   "cell_type": "markdown",
   "metadata": {
    "application/vnd.databricks.v1+cell": {
     "cellMetadata": {},
     "inputWidgets": {},
     "nuid": "7253d19b-3827-4635-8e2e-4af20e692c96",
     "showTitle": false,
     "title": ""
    }
   },
   "source": [
    "# Implementación de particiones avanzadas"
   ]
  },
  {
   "cell_type": "markdown",
   "metadata": {
    "application/vnd.databricks.v1+cell": {
     "cellMetadata": {},
     "inputWidgets": {},
     "nuid": "b8abc02f-f92f-4582-8e1c-d970c25d8176",
     "showTitle": false,
     "title": ""
    }
   },
   "source": [
    "Análisis del _dataset_"
   ]
  },
  {
   "cell_type": "code",
   "execution_count": 0,
   "metadata": {
    "application/vnd.databricks.v1+cell": {
     "cellMetadata": {
      "byteLimit": 2048000,
      "rowLimit": 10000
     },
     "inputWidgets": {},
     "nuid": "da72c87d-f221-4826-82a5-dc2c5fc999a3",
     "showTitle": false,
     "title": ""
    }
   },
   "outputs": [
    {
     "output_type": "stream",
     "name": "stdout",
     "output_type": "stream",
     "text": [
      "root\n |-- _c0: integer (nullable = true)\n |-- Date: date (nullable = true)\n |-- Customer_ID: integer (nullable = true)\n |-- Transaction_ID: integer (nullable = true)\n |-- SKU_Category: string (nullable = true)\n |-- SKU: string (nullable = true)\n |-- Quantity: double (nullable = true)\n |-- Sales_Amount: double (nullable = true)\n\n+---+----------+-----------+--------------+------------+-----+--------+------------+\n|_c0|      Date|Customer_ID|Transaction_ID|SKU_Category|  SKU|Quantity|Sales_Amount|\n+---+----------+-----------+--------------+------------+-----+--------+------------+\n|  1|2016-01-02|       2547|             1|         X52|0EM7L|     1.0|        3.13|\n|  2|2016-01-02|        822|             2|         2ML|68BRQ|     1.0|        5.46|\n|  3|2016-01-02|       3686|             3|         0H2|CZUZX|     1.0|        6.35|\n|  4|2016-01-02|       3719|             4|         0H2|549KK|     1.0|        5.59|\n|  5|2016-01-02|       9200|             5|         0H2|K8EHH|     1.0|        6.88|\n+---+----------+-----------+--------------+------------+-----+--------+------------+\nonly showing top 5 rows\n\n"
     ]
    }
   ],
   "source": [
    "# Contar el número total de registros\n",
    "df.count()\n",
    "\n",
    "# Obtener el esquema del dataset para entender qué columnas utilizar para particionar\n",
    "df.printSchema()\n",
    "\n",
    "# Mostrar las primeras filas del dataset para análisis visual\n",
    "df.show(5)\n"
   ]
  },
  {
   "cell_type": "markdown",
   "metadata": {
    "application/vnd.databricks.v1+cell": {
     "cellMetadata": {},
     "inputWidgets": {},
     "nuid": "2621d8ac-06d2-484a-af79-49c4d3ce0512",
     "showTitle": false,
     "title": ""
    }
   },
   "source": [
    "# Paso 2: Implementación de particiones avanzadas\n",
    "### Identificar las columnas clave para particionar:\n",
    "\n",
    "Basándonos en las columnas, podemos particionar por Date (a nivel de año y mes) y SKU_Category. Estas son columnas que típicamente son consultadas en un análisis de ventas.\n",
    "### Particionar el dataset:\n",
    "\n",
    "Particionar los datos por SKU_Category y Date (dividido en año y mes) mejora las consultas que filtran por estos valores. Esto evita leer datos innecesarios:"
   ]
  },
  {
   "cell_type": "code",
   "execution_count": 0,
   "metadata": {
    "application/vnd.databricks.v1+cell": {
     "cellMetadata": {
      "byteLimit": 2048000,
      "rowLimit": 10000
     },
     "inputWidgets": {},
     "nuid": "93bf41a4-71cb-4ca5-b892-642505f1296c",
     "showTitle": false,
     "title": ""
    }
   },
   "outputs": [],
   "source": [
    "from pyspark.sql.functions import year, month\n",
    "\n",
    "df_with_date = df.withColumn(\"year\", year(df[\"Date\"])).withColumn(\"month\", month(df[\"Date\"]))\n",
    "df_repartitioned = df_with_date.repartition(\"year\", \"month\", \"SKU_Category\")\n"
   ]
  },
  {
   "cell_type": "markdown",
   "metadata": {
    "application/vnd.databricks.v1+cell": {
     "cellMetadata": {},
     "inputWidgets": {},
     "nuid": "4490662b-ed1e-4d04-bba3-3bed6ce561e4",
     "showTitle": false,
     "title": ""
    }
   },
   "source": [
    "### Guardar el dataset particionado en Delta Lake:\n",
    "\n",
    "**¿Por qué?:** Delta Lake es un formato de almacenamiento transaccional sobre almacenamiento distribuido como ADLS. Guardar los datos en formato Delta nos da la ventaja de las transacciones ACID, la corrección automática de archivos pequeños y las capacidades de optimización que mejoran el rendimiento de consultas."
   ]
  },
  {
   "cell_type": "code",
   "execution_count": 0,
   "metadata": {
    "application/vnd.databricks.v1+cell": {
     "cellMetadata": {
      "byteLimit": 2048000,
      "rowLimit": 10000
     },
     "inputWidgets": {},
     "nuid": "94893a28-4350-45eb-886d-ff198ea306a5",
     "showTitle": false,
     "title": ""
    }
   },
   "outputs": [],
   "source": [
    "df_repartitioned.write.partitionBy(\"year\", \"month\", \"SKU_Category\").mode(\"overwrite\").format(\"delta\").save(\"/mnt/datalake/delta_partitioned_data/\")\n"
   ]
  },
  {
   "cell_type": "markdown",
   "metadata": {
    "application/vnd.databricks.v1+cell": {
     "cellMetadata": {},
     "inputWidgets": {},
     "nuid": "fa212c8c-1785-4bd1-b2b4-aecd84261957",
     "showTitle": false,
     "title": ""
    }
   },
   "source": [
    "# Paso 3: Compactación de archivos pequeños con Delta Lake\n",
    "### Problema: Archivos pequeños:\n",
    "\n",
    "Cuando se aplican muchas particiones, es común generar archivos pequeños que ralentizan el rendimiento. Esto ocurre porque cada partición puede tener pocos datos si las particiones no están bien distribuidas.\n",
    "### Solución: Compactar archivos pequeños con OPTIMIZE:\n",
    "\n",
    "**¿Por qué?:** El comando OPTIMIZE en Delta Lake reduce el número de archivos pequeños, agrupándolos en archivos más grandes. Esto mejora significativamente el rendimiento de las consultas porque Spark necesita leer menos archivos."
   ]
  },
  {
   "cell_type": "code",
   "execution_count": 0,
   "metadata": {
    "application/vnd.databricks.v1+cell": {
     "cellMetadata": {
      "byteLimit": 2048000,
      "rowLimit": 10000
     },
     "inputWidgets": {},
     "nuid": "f0ee8d02-7651-46b2-a6b7-763b95d20e0e",
     "showTitle": false,
     "title": ""
    }
   },
   "outputs": [
    {
     "output_type": "execute_result",
     "data": {
      "text/plain": [
       "DataFrame[path: string, metrics: struct<numFilesAdded:bigint,numFilesRemoved:bigint,filesAdded:struct<min:bigint,max:bigint,avg:double,totalFiles:bigint,totalSize:bigint>,filesRemoved:struct<min:bigint,max:bigint,avg:double,totalFiles:bigint,totalSize:bigint>,partitionsOptimized:bigint,zOrderStats:struct<strategyName:string,inputCubeFiles:struct<num:bigint,size:bigint>,inputOtherFiles:struct<num:bigint,size:bigint>,inputNumCubes:bigint,mergedFiles:struct<num:bigint,size:bigint>,numOutputCubes:bigint,mergedNumCubes:bigint>,clusteringStats:struct<inputZCubeFiles:struct<numFiles:bigint,size:bigint>,inputOtherFiles:struct<numFiles:bigint,size:bigint>,inputNumZCubes:bigint,mergedFiles:struct<numFiles:bigint,size:bigint>,numOutputZCubes:bigint>,numBins:bigint,numBatches:bigint,totalConsideredFiles:bigint,totalFilesSkipped:bigint,preserveInsertionOrder:boolean,numFilesSkippedToReduceWriteAmplification:bigint,numBytesSkippedToReduceWriteAmplification:bigint,startTimeMs:bigint,endTimeMs:bigint,totalClusterParallelism:bigint,totalScheduledTasks:bigint,autoCompactParallelismStats:struct<maxClusterActiveParallelism:bigint,minClusterActiveParallelism:bigint,maxSessionActiveParallelism:bigint,minSessionActiveParallelism:bigint>,deletionVectorStats:struct<numDeletionVectorsRemoved:bigint,numDeletionVectorRowsRemoved:bigint>,numTableColumns:bigint,numTableColumnsWithStats:bigint,totalTaskExecutionTimeMs:bigint,skippedArchivedFiles:bigint,clusteringMetrics:struct<sizeOfTableInBytesBeforeLazyClustering:bigint,isNewMetadataCreated:boolean,isPOTriggered:boolean,numFilesSkippedWithoutStats:bigint,numFilesClassifiedToIntermediateNodes:bigint,sizeOfFilesClassifiedToIntermediateNodesInBytes:bigint,logicalSizeOfFilesClassifiedToIntermediateNodesInBytes:bigint,numFilesClassifiedToLeafNodes:bigint,sizeOfFilesClassifiedToLeafNodesInBytes:bigint,logicalSizeOfFilesClassifiedToLeafNodesInBytes:bigint,numThreadsForClassifier:int,clusterThresholdStrategy:string,minFileSize:bigint,maxFileSize:bigint,nodeMinNumFilesToCompact:bigint,numIdealFiles:bigint,numClusteringTasksPlanned:int,numCompactionTasksPlanned:int,numOptimizeBatchesPlanned:int,numLeafNodesExpanded:bigint,numLeafNodesClustered:bigint,numGetFilesForNodeCalls:bigint,numSamplingJobs:bigint,numLeafNodesCompacted:bigint,numIntermediateNodesCompacted:bigint,totalSizeOfDataToCompactInBytes:bigint,totalLogicalSizeOfDataToCompactInBytes:bigint,numIntermediateNodesClustered:bigint,numFilesSkippedAfterExpansion:bigint,totalSizeOfFilesSkippedAfterExpansionInBytes:bigint,totalLogicalSizeOfFilesSkippedAfterExpansionInBytes:bigint,totalSizeOfDataToRewriteInBytes:bigint,totalLogicalSizeOfDataToRewriteInBytes:bigint,timeMetrics:struct<classifierTimeMs:bigint,optimizerTimeMs:bigint,metadataLoadTimeMs:bigint,totalGetFilesForNodeCallsTimeMs:bigint,totalSamplingTimeMs:bigint,metadataCreationTimeMs:bigint>,maxOptimizeBatchesInParallel:bigint,currentIteration:int,maxIterations:int,clusteringStrategy:string>>]"
      ]
     },
     "execution_count": 10,
     "metadata": {},
     "output_type": "execute_result"
    }
   ],
   "source": [
    "spark.sql(\"OPTIMIZE '/mnt/datalake/delta_partitioned_data/'\")\n"
   ]
  },
  {
   "cell_type": "markdown",
   "metadata": {
    "application/vnd.databricks.v1+cell": {
     "cellMetadata": {},
     "inputWidgets": {},
     "nuid": "481678a3-9d1a-416b-a651-664120b81a69",
     "showTitle": false,
     "title": ""
    }
   },
   "source": [
    "### Verificar la compactación:\n",
    "\n",
    "Usa Spark UI para verificar que el número de archivos ha disminuido y que las tareas de lectura son más rápidas tras la compactación."
   ]
  },
  {
   "cell_type": "markdown",
   "metadata": {
    "application/vnd.databricks.v1+cell": {
     "cellMetadata": {},
     "inputWidgets": {},
     "nuid": "07a2a259-5b6e-4bf8-89d1-cd68e5118a88",
     "showTitle": false,
     "title": ""
    }
   },
   "source": [
    "# Paso 4: Ajuste dinámico de particiones\n",
    "### Ajuste dinámico del número de particiones:\n",
    "\n",
    "**¿Por qué?:** Dependiendo del tamaño del clúster y el volumen de datos, ajustar dinámicamente el número de particiones permite que Spark utilice de manera eficiente los recursos del clúster. Si tienes pocas particiones, no aprovecharás completamente el paralelismo. Si tienes demasiadas particiones, estarás sobrecargando el sistema con operaciones de lectura innecesarias.\n",
    "\n",
    "Para optimizar el rendimiento en clústeres de diferentes tamaños, ajusta dinámicamente el número de particiones. Usa la configuración por defecto de Spark o ajusta manualmente el número de particiones según el tamaño del dataset:"
   ]
  },
  {
   "cell_type": "code",
   "execution_count": 0,
   "metadata": {
    "application/vnd.databricks.v1+cell": {
     "cellMetadata": {
      "byteLimit": 2048000,
      "rowLimit": 10000
     },
     "inputWidgets": {},
     "nuid": "42d2e293-0703-45e9-b52e-ab5ed819dae2",
     "showTitle": false,
     "title": ""
    }
   },
   "outputs": [],
   "source": [
    "num_partitions = spark.conf.get(\"spark.sql.shuffle.partitions\", \"200\")\n",
    "\n",
    "# Reparticionar dinámicamente basándose en el tamaño del clúster\n",
    "df_dynamic = df.repartition(int(num_partitions))\n",
    "df_dynamic.write.mode(\"overwrite\").format(\"delta\").save(\"/mnt/datalake/delta_dynamic_partitioned_data/\")"
   ]
  },
  {
   "cell_type": "markdown",
   "metadata": {
    "application/vnd.databricks.v1+cell": {
     "cellMetadata": {},
     "inputWidgets": {},
     "nuid": "0577efd1-069a-4a14-923c-70ea020586da",
     "showTitle": false,
     "title": ""
    }
   },
   "source": [
    "**Objetivo:** Ajustar el número de particiones asegura que el clúster no tenga sobrecarga de particiones, ni pocas particiones que reduzcan el paralelismo."
   ]
  },
  {
   "cell_type": "markdown",
   "metadata": {
    "application/vnd.databricks.v1+cell": {
     "cellMetadata": {},
     "inputWidgets": {},
     "nuid": "ad43db08-82c8-48b5-b14b-33674ce740f2",
     "showTitle": false,
     "title": ""
    }
   },
   "source": [
    "# Paso 5: Comparar el rendimiento con y sin particiones\n",
    "### Ejecutar consultas sin particionamiento:\n",
    "\n",
    "Mide el tiempo de una consulta sin particionamiento para ver la diferencia:"
   ]
  },
  {
   "cell_type": "code",
   "execution_count": 0,
   "metadata": {
    "application/vnd.databricks.v1+cell": {
     "cellMetadata": {
      "byteLimit": 2048000,
      "rowLimit": 10000
     },
     "inputWidgets": {},
     "nuid": "fc5194db-09cb-4dae-ba38-0bab18c5acb8",
     "showTitle": false,
     "title": ""
    }
   },
   "outputs": [
    {
     "output_type": "stream",
     "name": "stdout",
     "output_type": "stream",
     "text": [
      "+------------+------------------+\n|SKU_Category| sum(Sales_Amount)|\n+------------+------------------+\n|         TEU|1270.0199999999995|\n|         6KO|            200.45|\n|         RU6| 8358.180000000013|\n|         RML| 5764.909999999999|\n|         MOE|4340.1300000000065|\n|         FU5|25877.709999999934|\n|         H1H|            2181.7|\n|         WHL| 858.3900000000001|\n|         UCR|             59.97|\n|         AEB|2171.2400000000043|\n|         PBV|10236.329999999998|\n|         69B| 2752.180000000002|\n|         1EO|          34638.22|\n|         9ZX|42629.309999999925|\n|         IW1|            414.63|\n|         QCG|19855.560000000078|\n|         HXR|125.19000000000003|\n|         HW0|350.15000000000015|\n|         X52|12769.070000000002|\n|         01F|38029.870000000075|\n+------------+------------------+\nonly showing top 20 rows\n\n--- 0.7784538269042969 seconds ---\n"
     ]
    }
   ],
   "source": [
    "import time\n",
    "start_time = time.time()\n",
    "df.groupBy(\"SKU_Category\").agg({\"Sales_Amount\": \"sum\"}).show()\n",
    "print(\"--- %s seconds ---\" % (time.time() - start_time))\n"
   ]
  },
  {
   "cell_type": "markdown",
   "metadata": {
    "application/vnd.databricks.v1+cell": {
     "cellMetadata": {},
     "inputWidgets": {},
     "nuid": "966213d1-97c5-4c1a-8aec-2a77f68fe1cf",
     "showTitle": false,
     "title": ""
    }
   },
   "source": [
    "### Ejecutar consultas con particionamiento:\n",
    "\n",
    "Realiza la misma consulta después de particionar y mide el tiempo:"
   ]
  },
  {
   "cell_type": "code",
   "execution_count": 0,
   "metadata": {
    "application/vnd.databricks.v1+cell": {
     "cellMetadata": {
      "byteLimit": 2048000,
      "rowLimit": 10000
     },
     "inputWidgets": {},
     "nuid": "0e50f4ed-bf28-4361-904a-8946506321ab",
     "showTitle": false,
     "title": ""
    }
   },
   "outputs": [
    {
     "output_type": "stream",
     "name": "stdout",
     "output_type": "stream",
     "text": [
      "+------------+------------------+\n|SKU_Category| sum(Sales_Amount)|\n+------------+------------------+\n|         FU5| 25877.71000000002|\n|         X52|12769.069999999987|\n|         01F|38029.870000000024|\n|         29A|22307.120000000043|\n|         LSD| 16732.67999999999|\n|         P42|32009.439999999762|\n|         Q4N|31928.339999999986|\n|         J4R|28916.230000000043|\n|         8HU| 35528.14000000027|\n|         1VL|16931.529999999973|\n|         XG4| 14422.89000000001|\n|         0H2|29875.140000000087|\n|         JPI| 4933.950000000004|\n|         6BZ| 114061.3300000002|\n|         IEV|37618.219999999885|\n|         N8U| 49119.54999999983|\n|         YMJ|14725.430000000018|\n|         OBD|20847.279999999995|\n|         U5F| 28230.64999999998|\n|         R6E| 34784.58999999996|\n+------------+------------------+\nonly showing top 20 rows\n\n--- 3.395134210586548 seconds ---\n"
     ]
    }
   ],
   "source": [
    "df_part = spark.read.format(\"delta\").load(\"/mnt/datalake/delta_partitioned_data/\")\n",
    "start_time = time.time()\n",
    "df_part.groupBy(\"SKU_Category\").agg({\"Sales_Amount\": \"sum\"}).show()\n",
    "print(\"--- %s seconds ---\" % (time.time() - start_time))\n"
   ]
  },
  {
   "cell_type": "markdown",
   "metadata": {
    "application/vnd.databricks.v1+cell": {
     "cellMetadata": {},
     "inputWidgets": {},
     "nuid": "0d03032b-0ac8-48be-9ad9-3cfd571a2bac",
     "showTitle": false,
     "title": ""
    }
   },
   "source": [
    "### Evaluar el rendimiento:\n",
    "\n",
    "Compara los tiempos de consulta con y sin particiones. Deberías ver una mejora significativa en los tiempos de respuesta al usar particiones adecuadas."
   ]
  }
 ],
 "metadata": {
  "application/vnd.databricks.v1+notebook": {
   "dashboards": [],
   "environmentMetadata": null,
   "language": "python",
   "notebookMetadata": {
    "pythonIndentUnit": 4
   },
   "notebookName": "Lab1",
   "widgets": {}
  }
 },
 "nbformat": 4,
 "nbformat_minor": 0
}
