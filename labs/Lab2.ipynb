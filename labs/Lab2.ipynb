{
 "cells": [
  {
   "cell_type": "code",
   "execution_count": 0,
   "metadata": {
    "application/vnd.databricks.v1+cell": {
     "cellMetadata": {
      "byteLimit": 2048000,
      "rowLimit": 10000
     },
     "inputWidgets": {},
     "nuid": "10985a22-5965-4272-8e16-4d4babd38391",
     "showTitle": false,
     "title": ""
    }
   },
   "outputs": [
    {
     "output_type": "stream",
     "name": "stdout",
     "output_type": "stream",
     "text": [
      "/mnt/datalake has been unmounted.\n"
     ]
    },
    {
     "output_type": "execute_result",
     "data": {
      "text/plain": [
       "True"
      ]
     },
     "execution_count": 16,
     "metadata": {},
     "output_type": "execute_result"
    }
   ],
   "source": [
    "# Unmount the existing mount point if it exists\n",
    "dbutils.fs.unmount(\"/mnt/datalake\")"
   ]
  },
  {
   "cell_type": "code",
   "execution_count": 0,
   "metadata": {
    "application/vnd.databricks.v1+cell": {
     "cellMetadata": {
      "byteLimit": 2048000,
      "rowLimit": 10000
     },
     "inputWidgets": {},
     "nuid": "733e32ea-3303-44ff-8fe2-cac778476672",
     "showTitle": false,
     "title": ""
    }
   },
   "outputs": [
    {
     "output_type": "execute_result",
     "data": {
      "text/plain": [
       "True"
      ]
     },
     "execution_count": 17,
     "metadata": {},
     "output_type": "execute_result"
    }
   ],
   "source": [
    "# Montar el contenedor de Azure Data Lake Storage (ADLS)\n",
    "dbutils.fs.mount(\n",
    "    source = \"\",\n",
    "    mount_point = \"/mnt/\",\n",
    "    extra_configs = {\"\": \"\"}\n",
    ")\n",
    "\n"
   ]
  },
  {
   "cell_type": "code",
   "execution_count": 0,
   "metadata": {
    "application/vnd.databricks.v1+cell": {
     "cellMetadata": {
      "byteLimit": 2048000,
      "rowLimit": 10000
     },
     "inputWidgets": {},
     "nuid": "ab7fb253-6e3b-4995-94ef-6b4293d1bcb9",
     "showTitle": false,
     "title": ""
    }
   },
   "outputs": [
    {
     "output_type": "stream",
     "name": "stdout",
     "output_type": "stream",
     "text": [
      "root\n |-- ID: string (nullable = true)\n |-- Listing Url: string (nullable = true)\n |-- Scrape ID: string (nullable = true)\n |-- Last Scraped: string (nullable = true)\n |-- Name: string (nullable = true)\n |-- Summary: string (nullable = true)\n |-- Space: string (nullable = true)\n |-- Description: string (nullable = true)\n |-- Experiences Offered: string (nullable = true)\n |-- Neighborhood Overview: string (nullable = true)\n |-- Notes: string (nullable = true)\n |-- Transit: string (nullable = true)\n |-- Access: string (nullable = true)\n |-- Interaction: string (nullable = true)\n |-- House Rules: string (nullable = true)\n |-- Thumbnail Url: string (nullable = true)\n |-- Medium Url: string (nullable = true)\n |-- Picture Url: string (nullable = true)\n |-- XL Picture Url: string (nullable = true)\n |-- Host ID: string (nullable = true)\n |-- Host URL: string (nullable = true)\n |-- Host Name: string (nullable = true)\n |-- Host Since: string (nullable = true)\n |-- Host Location: string (nullable = true)\n |-- Host About: string (nullable = true)\n |-- Host Response Time: string (nullable = true)\n |-- Host Response Rate: string (nullable = true)\n |-- Host Acceptance Rate: string (nullable = true)\n |-- Host Thumbnail Url: string (nullable = true)\n |-- Host Picture Url: string (nullable = true)\n |-- Host Neighbourhood: string (nullable = true)\n |-- Host Listings Count: string (nullable = true)\n |-- Host Total Listings Count: string (nullable = true)\n |-- Host Verifications: string (nullable = true)\n |-- Street: string (nullable = true)\n |-- Neighbourhood: string (nullable = true)\n |-- Neighbourhood Cleansed: string (nullable = true)\n |-- Neighbourhood Group Cleansed: string (nullable = true)\n |-- City: string (nullable = true)\n |-- State: string (nullable = true)\n |-- Zipcode: string (nullable = true)\n |-- Market: string (nullable = true)\n |-- Smart Location: string (nullable = true)\n |-- Country Code: string (nullable = true)\n |-- Country: string (nullable = true)\n |-- Latitude: string (nullable = true)\n |-- Longitude: string (nullable = true)\n |-- Property Type: string (nullable = true)\n |-- Room Type: string (nullable = true)\n |-- Accommodates: string (nullable = true)\n |-- Bathrooms: string (nullable = true)\n |-- Bedrooms: string (nullable = true)\n |-- Beds: string (nullable = true)\n |-- Bed Type: string (nullable = true)\n |-- Amenities: string (nullable = true)\n |-- Square Feet: string (nullable = true)\n |-- Price: string (nullable = true)\n |-- Weekly Price: string (nullable = true)\n |-- Monthly Price: string (nullable = true)\n |-- Security Deposit: string (nullable = true)\n |-- Cleaning Fee: string (nullable = true)\n |-- Guests Included: string (nullable = true)\n |-- Extra People: string (nullable = true)\n |-- Minimum Nights: string (nullable = true)\n |-- Maximum Nights: string (nullable = true)\n |-- Calendar Updated: string (nullable = true)\n |-- Has Availability: string (nullable = true)\n |-- Availability 30: string (nullable = true)\n |-- Availability 60: string (nullable = true)\n |-- Availability 90: string (nullable = true)\n |-- Availability 365: string (nullable = true)\n |-- Calendar last Scraped: string (nullable = true)\n |-- Number of Reviews: string (nullable = true)\n |-- First Review: string (nullable = true)\n |-- Last Review: string (nullable = true)\n |-- Review Scores Rating: string (nullable = true)\n |-- Review Scores Accuracy: string (nullable = true)\n |-- Review Scores Cleanliness: string (nullable = true)\n |-- Review Scores Checkin: string (nullable = true)\n |-- Review Scores Communication: string (nullable = true)\n |-- Review Scores Location: string (nullable = true)\n |-- Review Scores Value: string (nullable = true)\n |-- License: string (nullable = true)\n |-- Jurisdiction Names: string (nullable = true)\n |-- Cancellation Policy: string (nullable = true)\n |-- Calculated host listings count: string (nullable = true)\n |-- Reviews per Month: string (nullable = true)\n |-- Geolocation: string (nullable = true)\n |-- Features: string (nullable = true)\n\n+--------------------+--------------------+--------------+------------+--------------------+--------------------+--------------------+--------------------+-------------------+---------------------+--------------------+--------------------+--------------------+--------------------+--------------------+--------------------+--------------------+--------------------+--------------------+--------+--------------------+-----------------+-----------------+--------------------+--------------------+------------------+------------------+--------------------+------------------+----------------+--------------------+-------------------+-------------------------+------------------+------+-------------+----------------------+----------------------------+----+-----+-------+-----------+--------------+------------+-------+--------+---------+-------------+---------+------------+----------+--------+----+--------+---------+-----------+-----+------------+-------------+----------------+------------+---------------+------------+--------------------+--------------------+----------------+----------------+---------------+---------------+---------------+----------------+---------------------+-----------------+------------+-----------+--------------------+----------------------+-------------------------+---------------------+---------------------------+----------------------+-------------------+-------+------------------+-------------------+------------------------------+-----------------+-----------+--------+\n|                  ID|         Listing Url|     Scrape ID|Last Scraped|                Name|             Summary|               Space|         Description|Experiences Offered|Neighborhood Overview|               Notes|             Transit|              Access|         Interaction|         House Rules|       Thumbnail Url|          Medium Url|         Picture Url|      XL Picture Url| Host ID|            Host URL|        Host Name|       Host Since|       Host Location|          Host About|Host Response Time|Host Response Rate|Host Acceptance Rate|Host Thumbnail Url|Host Picture Url|  Host Neighbourhood|Host Listings Count|Host Total Listings Count|Host Verifications|Street|Neighbourhood|Neighbourhood Cleansed|Neighbourhood Group Cleansed|City|State|Zipcode|     Market|Smart Location|Country Code|Country|Latitude|Longitude|Property Type|Room Type|Accommodates| Bathrooms|Bedrooms|Beds|Bed Type|Amenities|Square Feet|Price|Weekly Price|Monthly Price|Security Deposit|Cleaning Fee|Guests Included|Extra People|      Minimum Nights|      Maximum Nights|Calendar Updated|Has Availability|Availability 30|Availability 60|Availability 90|Availability 365|Calendar last Scraped|Number of Reviews|First Review|Last Review|Review Scores Rating|Review Scores Accuracy|Review Scores Cleanliness|Review Scores Checkin|Review Scores Communication|Review Scores Location|Review Scores Value|License|Jurisdiction Names|Cancellation Policy|Calculated host listings count|Reviews per Month|Geolocation|Features|\n+--------------------+--------------------+--------------+------------+--------------------+--------------------+--------------------+--------------------+-------------------+---------------------+--------------------+--------------------+--------------------+--------------------+--------------------+--------------------+--------------------+--------------------+--------------------+--------+--------------------+-----------------+-----------------+--------------------+--------------------+------------------+------------------+--------------------+------------------+----------------+--------------------+-------------------+-------------------------+------------------+------+-------------+----------------------+----------------------------+----+-----+-------+-----------+--------------+------------+-------+--------+---------+-------------+---------+------------+----------+--------+----+--------+---------+-----------+-----+------------+-------------+----------------+------------+---------------+------------+--------------------+--------------------+----------------+----------------+---------------+---------------+---------------+----------------+---------------------+-----------------+------------+-----------+--------------------+----------------------+-------------------------+---------------------+---------------------------+----------------------+-------------------+-------+------------------+-------------------+------------------------------+-----------------+-----------+--------+\n|             4008728|https://www.airbn...|20170402075052|  2017-04-02|Luxurious 3 bedro...|‪This luxurious a...|In the heart of h...|‪This luxurious a...|               none| There is a wide v...|Perfect location ...|                NULL|                NULL|                NULL|I expect you to t...|https://a0.muscac...|https://a0.muscac...|https://public.op...|https://a0.muscac...|20786453|https://www.airbn...|           Lithal|       2014-09-01|Amsterdam, North ...|Hi there! As I lo...|              NULL|              NULL|                NULL|              NULL|            NULL|                NULL|               NULL|                     NULL|              NULL|  NULL|         NULL|                  NULL|                        NULL|NULL| NULL|   NULL|       NULL|          NULL|        NULL|   NULL|    NULL|     NULL|         NULL|     NULL|        NULL|      NULL|    NULL|NULL|    NULL|     NULL|       NULL| NULL|        NULL|         NULL|            NULL|        NULL|           NULL|        NULL|                NULL|                NULL|            NULL|            NULL|           NULL|           NULL|           NULL|            NULL|                 NULL|             NULL|        NULL|       NULL|                NULL|                  NULL|                     NULL|                 NULL|                       NULL|                  NULL|               NULL|   NULL|              NULL|               NULL|                          NULL|             NULL|       NULL|    NULL|\n| Also very important| to stay in an ap...|          NULL|        NULL|                NULL|                NULL|                NULL|                NULL|               NULL|                 NULL|                NULL|                NULL|                NULL|                NULL|                NULL|                NULL|                NULL|                NULL|                NULL|    NULL|                NULL|             NULL|             NULL|                NULL|                NULL|              NULL|              NULL|                NULL|              NULL|            NULL|                NULL|               NULL|                     NULL|              NULL|  NULL|         NULL|                  NULL|                        NULL|NULL| NULL|   NULL|       NULL|          NULL|        NULL|   NULL|    NULL|     NULL|         NULL|     NULL|        NULL|      NULL|    NULL|NULL|    NULL|     NULL|       NULL| NULL|        NULL|         NULL|            NULL|        NULL|           NULL|        NULL|                NULL|                NULL|            NULL|            NULL|           NULL|           NULL|           NULL|            NULL|                 NULL|             NULL|        NULL|       NULL|                NULL|                  NULL|                     NULL|                 NULL|                       NULL|                  NULL|               NULL|   NULL|              NULL|               NULL|                          NULL|             NULL|       NULL|    NULL|\n|As I'm in between...|                NULL|          NULL|        NULL|                NULL|                NULL|                NULL|                NULL|               NULL|                 NULL|                NULL|                NULL|                NULL|                NULL|                NULL|                NULL|                NULL|                NULL|                NULL|    NULL|                NULL|             NULL|             NULL|                NULL|                NULL|              NULL|              NULL|                NULL|              NULL|            NULL|                NULL|               NULL|                     NULL|              NULL|  NULL|         NULL|                  NULL|                        NULL|NULL| NULL|   NULL|       NULL|          NULL|        NULL|   NULL|    NULL|     NULL|         NULL|     NULL|        NULL|      NULL|    NULL|NULL|    NULL|     NULL|       NULL| NULL|        NULL|         NULL|            NULL|        NULL|           NULL|        NULL|                NULL|                NULL|            NULL|            NULL|           NULL|           NULL|           NULL|            NULL|                 NULL|             NULL|        NULL|       NULL|                NULL|                  NULL|                     NULL|                 NULL|                       NULL|                  NULL|               NULL|   NULL|              NULL|               NULL|                          NULL|             NULL|       NULL|    NULL|\n|So I'm going to m...|        within a day|            50|        NULL|https://a0.muscac...|https://a0.muscac...|            Oud-West|                   1|                  1| email,phone,faceb...|Oud-West, Amsterd...|            Oud-West|De Baarsjes - Oud...|                NULL|           Amsterdam|       North Holland|             1054 AA|           Amsterdam|Amsterdam, Nether...|      NL|         Netherlands|52.36523660409065|4.878249575101092|           Apartment|     Entire home/apt|                 6|               1.0|                   3|                 3|        Real Bed|TV,Internet,Wirel...|               NULL|                      600|              NULL|  6000|          500|                    50|                           4|  50|    2|   1125|3 weeks ago|          NULL|          14|     44|      74|       74|   2017-04-02|       31|  2015-08-02|2016-11-27|      89|   9|       8|        9|         10|   10|           9|         NULL|       Amsterdam|      strict|              1|        1.52|52.36523660409065...|Host Has Profile ...|            NULL|            NULL|           NULL|           NULL|           NULL|            NULL|                 NULL|             NULL|        NULL|       NULL|                NULL|                  NULL|                     NULL|                 NULL|                       NULL|                  NULL|               NULL|   NULL|              NULL|               NULL|                          NULL|             NULL|       NULL|    NULL|\n|             7778612|https://www.airbn...|20170402075052|  2017-04-02|Luxury apartment ...|Beautiful, large ...|1 living room 1 d...|Beautiful, large ...|               none| Within a few minu...|                NULL|Public transport ...|                NULL|You'll have the a...|no smoking inside...|                NULL|                NULL|https://public.op...|                NULL|11964927|https://www.airbn...|             Hein|       2014-02-05|Amsterdam, North ...|I live together w...|              NULL|              NULL|                NULL|              NULL|            NULL|                NULL|               NULL|                     NULL|              NULL|  NULL|         NULL|                  NULL|                        NULL|NULL| NULL|   NULL|       NULL|          NULL|        NULL|   NULL|    NULL|     NULL|         NULL|     NULL|        NULL|      NULL|    NULL|NULL|    NULL|     NULL|       NULL| NULL|        NULL|         NULL|            NULL|        NULL|           NULL|        NULL|                NULL|                NULL|            NULL|            NULL|           NULL|           NULL|           NULL|            NULL|                 NULL|             NULL|        NULL|       NULL|                NULL|                  NULL|                     NULL|                 NULL|                       NULL|                  NULL|               NULL|   NULL|              NULL|               NULL|                          NULL|             NULL|       NULL|    NULL|\n+--------------------+--------------------+--------------+------------+--------------------+--------------------+--------------------+--------------------+-------------------+---------------------+--------------------+--------------------+--------------------+--------------------+--------------------+--------------------+--------------------+--------------------+--------------------+--------+--------------------+-----------------+-----------------+--------------------+--------------------+------------------+------------------+--------------------+------------------+----------------+--------------------+-------------------+-------------------------+------------------+------+-------------+----------------------+----------------------------+----+-----+-------+-----------+--------------+------------+-------+--------+---------+-------------+---------+------------+----------+--------+----+--------+---------+-----------+-----+------------+-------------+----------------+------------+---------------+------------+--------------------+--------------------+----------------+----------------+---------------+---------------+---------------+----------------+---------------------+-----------------+------------+-----------+--------------------+----------------------+-------------------------+---------------------+---------------------------+----------------------+-------------------+-------+------------------+-------------------+------------------------------+-----------------+-----------+--------+\nonly showing top 5 rows\n\n"
     ]
    }
   ],
   "source": [
    "# Leer el CSV especificando el delimitador ';'\n",
    "df = spark.read.csv(\"/mnt/datalake/airbnb-listings.csv\", header=True, inferSchema=True, sep=\";\")\n",
    "df.printSchema()\n",
    "df.show(5)\n"
   ]
  },
  {
   "cell_type": "code",
   "execution_count": 0,
   "metadata": {
    "application/vnd.databricks.v1+cell": {
     "cellMetadata": {
      "byteLimit": 2048000,
      "rowLimit": 10000
     },
     "inputWidgets": {},
     "nuid": "9d30f522-832b-44e8-ba21-d00eb9cf12dd",
     "showTitle": false,
     "title": ""
    }
   },
   "outputs": [
    {
     "output_type": "stream",
     "name": "stdout",
     "output_type": "stream",
     "text": [
      "root\n |-- ID: string (nullable = true)\n |-- Listing Url: string (nullable = true)\n |-- Scrape ID: string (nullable = true)\n |-- Last Scraped: string (nullable = true)\n |-- Name: string (nullable = true)\n |-- Summary: string (nullable = true)\n |-- Space: string (nullable = true)\n |-- Description: string (nullable = true)\n |-- Experiences Offered: string (nullable = true)\n |-- Neighborhood Overview: string (nullable = true)\n |-- Notes: string (nullable = true)\n |-- Transit: string (nullable = true)\n |-- Access: string (nullable = true)\n |-- Interaction: string (nullable = true)\n |-- House Rules: string (nullable = true)\n |-- Thumbnail Url: string (nullable = true)\n |-- Medium Url: string (nullable = true)\n |-- Picture Url: string (nullable = true)\n |-- XL Picture Url: string (nullable = true)\n |-- Host ID: string (nullable = true)\n |-- Host URL: string (nullable = true)\n |-- Host Name: string (nullable = true)\n |-- Host Since: string (nullable = true)\n |-- Host Location: string (nullable = true)\n |-- Host About: string (nullable = true)\n |-- Host Response Time: string (nullable = true)\n |-- Host Response Rate: string (nullable = true)\n |-- Host Acceptance Rate: string (nullable = true)\n |-- Host Thumbnail Url: string (nullable = true)\n |-- Host Picture Url: string (nullable = true)\n |-- Host Neighbourhood: string (nullable = true)\n |-- Host Listings Count: string (nullable = true)\n |-- Host Total Listings Count: string (nullable = true)\n |-- Host Verifications: string (nullable = true)\n |-- Street: string (nullable = true)\n |-- Neighbourhood: string (nullable = true)\n |-- Neighbourhood Cleansed: string (nullable = true)\n |-- Neighbourhood Group Cleansed: string (nullable = true)\n |-- City: string (nullable = true)\n |-- State: string (nullable = true)\n |-- Zipcode: string (nullable = true)\n |-- Market: string (nullable = true)\n |-- Smart Location: string (nullable = true)\n |-- Country Code: string (nullable = true)\n |-- Country: string (nullable = true)\n |-- Latitude: string (nullable = true)\n |-- Longitude: string (nullable = true)\n |-- Property Type: string (nullable = true)\n |-- Room Type: string (nullable = true)\n |-- Accommodates: string (nullable = true)\n |-- Bathrooms: string (nullable = true)\n |-- Bedrooms: string (nullable = true)\n |-- Beds: string (nullable = true)\n |-- Bed Type: string (nullable = true)\n |-- Amenities: string (nullable = true)\n |-- Square Feet: string (nullable = true)\n |-- Price: string (nullable = true)\n |-- Weekly Price: string (nullable = true)\n |-- Monthly Price: string (nullable = true)\n |-- Security Deposit: string (nullable = true)\n |-- Cleaning Fee: string (nullable = true)\n |-- Guests Included: string (nullable = true)\n |-- Extra People: string (nullable = true)\n |-- Minimum Nights: string (nullable = true)\n |-- Maximum Nights: string (nullable = true)\n |-- Calendar Updated: string (nullable = true)\n |-- Has Availability: string (nullable = true)\n |-- Availability 30: string (nullable = true)\n |-- Availability 60: string (nullable = true)\n |-- Availability 90: string (nullable = true)\n |-- Availability 365: string (nullable = true)\n |-- Calendar last Scraped: string (nullable = true)\n |-- Number of Reviews: string (nullable = true)\n |-- First Review: string (nullable = true)\n |-- Last Review: string (nullable = true)\n |-- Review Scores Rating: string (nullable = true)\n |-- Review Scores Accuracy: string (nullable = true)\n |-- Review Scores Cleanliness: string (nullable = true)\n |-- Review Scores Checkin: string (nullable = true)\n |-- Review Scores Communication: string (nullable = true)\n |-- Review Scores Location: string (nullable = true)\n |-- Review Scores Value: string (nullable = true)\n |-- License: string (nullable = true)\n |-- Jurisdiction Names: string (nullable = true)\n |-- Cancellation Policy: string (nullable = true)\n |-- Calculated host listings count: string (nullable = true)\n |-- Reviews per Month: string (nullable = true)\n |-- Geolocation: string (nullable = true)\n |-- Features: string (nullable = true)\n\n+--------------------+--------------------+--------------+------------+--------------------+--------------------+--------------------+--------------------+-------------------+---------------------+--------------------+--------------------+--------------------+--------------------+--------------------+--------------------+--------------------+--------------------+--------------------+--------+--------------------+-----------------+-----------------+--------------------+--------------------+------------------+------------------+--------------------+------------------+----------------+--------------------+-------------------+-------------------------+------------------+------+-------------+----------------------+----------------------------+----+-----+-------+-----------+--------------+------------+-------+--------+---------+-------------+---------+------------+----------+--------+----+--------+---------+-----------+-----+------------+-------------+----------------+------------+---------------+------------+--------------------+--------------------+----------------+----------------+---------------+---------------+---------------+----------------+---------------------+-----------------+------------+-----------+--------------------+----------------------+-------------------------+---------------------+---------------------------+----------------------+-------------------+-------+------------------+-------------------+------------------------------+-----------------+-----------+--------+\n|                  ID|         Listing Url|     Scrape ID|Last Scraped|                Name|             Summary|               Space|         Description|Experiences Offered|Neighborhood Overview|               Notes|             Transit|              Access|         Interaction|         House Rules|       Thumbnail Url|          Medium Url|         Picture Url|      XL Picture Url| Host ID|            Host URL|        Host Name|       Host Since|       Host Location|          Host About|Host Response Time|Host Response Rate|Host Acceptance Rate|Host Thumbnail Url|Host Picture Url|  Host Neighbourhood|Host Listings Count|Host Total Listings Count|Host Verifications|Street|Neighbourhood|Neighbourhood Cleansed|Neighbourhood Group Cleansed|City|State|Zipcode|     Market|Smart Location|Country Code|Country|Latitude|Longitude|Property Type|Room Type|Accommodates| Bathrooms|Bedrooms|Beds|Bed Type|Amenities|Square Feet|Price|Weekly Price|Monthly Price|Security Deposit|Cleaning Fee|Guests Included|Extra People|      Minimum Nights|      Maximum Nights|Calendar Updated|Has Availability|Availability 30|Availability 60|Availability 90|Availability 365|Calendar last Scraped|Number of Reviews|First Review|Last Review|Review Scores Rating|Review Scores Accuracy|Review Scores Cleanliness|Review Scores Checkin|Review Scores Communication|Review Scores Location|Review Scores Value|License|Jurisdiction Names|Cancellation Policy|Calculated host listings count|Reviews per Month|Geolocation|Features|\n+--------------------+--------------------+--------------+------------+--------------------+--------------------+--------------------+--------------------+-------------------+---------------------+--------------------+--------------------+--------------------+--------------------+--------------------+--------------------+--------------------+--------------------+--------------------+--------+--------------------+-----------------+-----------------+--------------------+--------------------+------------------+------------------+--------------------+------------------+----------------+--------------------+-------------------+-------------------------+------------------+------+-------------+----------------------+----------------------------+----+-----+-------+-----------+--------------+------------+-------+--------+---------+-------------+---------+------------+----------+--------+----+--------+---------+-----------+-----+------------+-------------+----------------+------------+---------------+------------+--------------------+--------------------+----------------+----------------+---------------+---------------+---------------+----------------+---------------------+-----------------+------------+-----------+--------------------+----------------------+-------------------------+---------------------+---------------------------+----------------------+-------------------+-------+------------------+-------------------+------------------------------+-----------------+-----------+--------+\n|             4008728|https://www.airbn...|20170402075052|  2017-04-02|Luxurious 3 bedro...|‪This luxurious a...|In the heart of h...|‪This luxurious a...|               none| There is a wide v...|Perfect location ...|                NULL|                NULL|                NULL|I expect you to t...|https://a0.muscac...|https://a0.muscac...|https://public.op...|https://a0.muscac...|20786453|https://www.airbn...|           Lithal|       2014-09-01|Amsterdam, North ...|Hi there! As I lo...|              NULL|              NULL|                NULL|              NULL|            NULL|                NULL|               NULL|                     NULL|              NULL|  NULL|         NULL|                  NULL|                        NULL|NULL| NULL|   NULL|       NULL|          NULL|        NULL|   NULL|    NULL|     NULL|         NULL|     NULL|        NULL|      NULL|    NULL|NULL|    NULL|     NULL|       NULL| NULL|        NULL|         NULL|            NULL|        NULL|           NULL|        NULL|                NULL|                NULL|            NULL|            NULL|           NULL|           NULL|           NULL|            NULL|                 NULL|             NULL|        NULL|       NULL|                NULL|                  NULL|                     NULL|                 NULL|                       NULL|                  NULL|               NULL|   NULL|              NULL|               NULL|                          NULL|             NULL|       NULL|    NULL|\n| Also very important| to stay in an ap...|          NULL|        NULL|                NULL|                NULL|                NULL|                NULL|               NULL|                 NULL|                NULL|                NULL|                NULL|                NULL|                NULL|                NULL|                NULL|                NULL|                NULL|    NULL|                NULL|             NULL|             NULL|                NULL|                NULL|              NULL|              NULL|                NULL|              NULL|            NULL|                NULL|               NULL|                     NULL|              NULL|  NULL|         NULL|                  NULL|                        NULL|NULL| NULL|   NULL|       NULL|          NULL|        NULL|   NULL|    NULL|     NULL|         NULL|     NULL|        NULL|      NULL|    NULL|NULL|    NULL|     NULL|       NULL| NULL|        NULL|         NULL|            NULL|        NULL|           NULL|        NULL|                NULL|                NULL|            NULL|            NULL|           NULL|           NULL|           NULL|            NULL|                 NULL|             NULL|        NULL|       NULL|                NULL|                  NULL|                     NULL|                 NULL|                       NULL|                  NULL|               NULL|   NULL|              NULL|               NULL|                          NULL|             NULL|       NULL|    NULL|\n|As I'm in between...|                NULL|          NULL|        NULL|                NULL|                NULL|                NULL|                NULL|               NULL|                 NULL|                NULL|                NULL|                NULL|                NULL|                NULL|                NULL|                NULL|                NULL|                NULL|    NULL|                NULL|             NULL|             NULL|                NULL|                NULL|              NULL|              NULL|                NULL|              NULL|            NULL|                NULL|               NULL|                     NULL|              NULL|  NULL|         NULL|                  NULL|                        NULL|NULL| NULL|   NULL|       NULL|          NULL|        NULL|   NULL|    NULL|     NULL|         NULL|     NULL|        NULL|      NULL|    NULL|NULL|    NULL|     NULL|       NULL| NULL|        NULL|         NULL|            NULL|        NULL|           NULL|        NULL|                NULL|                NULL|            NULL|            NULL|           NULL|           NULL|           NULL|            NULL|                 NULL|             NULL|        NULL|       NULL|                NULL|                  NULL|                     NULL|                 NULL|                       NULL|                  NULL|               NULL|   NULL|              NULL|               NULL|                          NULL|             NULL|       NULL|    NULL|\n|So I'm going to m...|        within a day|            50|        NULL|https://a0.muscac...|https://a0.muscac...|            Oud-West|                   1|                  1| email,phone,faceb...|Oud-West, Amsterd...|            Oud-West|De Baarsjes - Oud...|                NULL|           Amsterdam|       North Holland|             1054 AA|           Amsterdam|Amsterdam, Nether...|      NL|         Netherlands|52.36523660409065|4.878249575101092|           Apartment|     Entire home/apt|                 6|               1.0|                   3|                 3|        Real Bed|TV,Internet,Wirel...|               NULL|                      600|              NULL|  6000|          500|                    50|                           4|  50|    2|   1125|3 weeks ago|          NULL|          14|     44|      74|       74|   2017-04-02|       31|  2015-08-02|2016-11-27|      89|   9|       8|        9|         10|   10|           9|         NULL|       Amsterdam|      strict|              1|        1.52|52.36523660409065...|Host Has Profile ...|            NULL|            NULL|           NULL|           NULL|           NULL|            NULL|                 NULL|             NULL|        NULL|       NULL|                NULL|                  NULL|                     NULL|                 NULL|                       NULL|                  NULL|               NULL|   NULL|              NULL|               NULL|                          NULL|             NULL|       NULL|    NULL|\n|             7778612|https://www.airbn...|20170402075052|  2017-04-02|Luxury apartment ...|Beautiful, large ...|1 living room 1 d...|Beautiful, large ...|               none| Within a few minu...|                NULL|Public transport ...|                NULL|You'll have the a...|no smoking inside...|                NULL|                NULL|https://public.op...|                NULL|11964927|https://www.airbn...|             Hein|       2014-02-05|Amsterdam, North ...|I live together w...|              NULL|              NULL|                NULL|              NULL|            NULL|                NULL|               NULL|                     NULL|              NULL|  NULL|         NULL|                  NULL|                        NULL|NULL| NULL|   NULL|       NULL|          NULL|        NULL|   NULL|    NULL|     NULL|         NULL|     NULL|        NULL|      NULL|    NULL|NULL|    NULL|     NULL|       NULL| NULL|        NULL|         NULL|            NULL|        NULL|           NULL|        NULL|                NULL|                NULL|            NULL|            NULL|           NULL|           NULL|           NULL|            NULL|                 NULL|             NULL|        NULL|       NULL|                NULL|                  NULL|                     NULL|                 NULL|                       NULL|                  NULL|               NULL|   NULL|              NULL|               NULL|                          NULL|             NULL|       NULL|    NULL|\n+--------------------+--------------------+--------------+------------+--------------------+--------------------+--------------------+--------------------+-------------------+---------------------+--------------------+--------------------+--------------------+--------------------+--------------------+--------------------+--------------------+--------------------+--------------------+--------+--------------------+-----------------+-----------------+--------------------+--------------------+------------------+------------------+--------------------+------------------+----------------+--------------------+-------------------+-------------------------+------------------+------+-------------+----------------------+----------------------------+----+-----+-------+-----------+--------------+------------+-------+--------+---------+-------------+---------+------------+----------+--------+----+--------+---------+-----------+-----+------------+-------------+----------------+------------+---------------+------------+--------------------+--------------------+----------------+----------------+---------------+---------------+---------------+----------------+---------------------+-----------------+------------+-----------+--------------------+----------------------+-------------------------+---------------------+---------------------------+----------------------+-------------------+-------+------------------+-------------------+------------------------------+-----------------+-----------+--------+\nonly showing top 5 rows\n\n"
     ]
    }
   ],
   "source": [
    "from pyspark.sql.types import StructType, StructField, StringType, DoubleType, IntegerType\n",
    "\n",
    "schema = StructType([\n",
    "    StructField(\"ID\", StringType(), True),\n",
    "    StructField(\"Listing Url\", StringType(), True),\n",
    "    StructField(\"Scrape ID\", StringType(), True),\n",
    "    StructField(\"Last Scraped\", StringType(), True),\n",
    "    StructField(\"Name\", StringType(), True),\n",
    "    StructField(\"Summary\", StringType(), True),\n",
    "    StructField(\"Space\", StringType(), True),\n",
    "    StructField(\"Description\", StringType(), True),\n",
    "    StructField(\"Experiences Offered\", StringType(), True),\n",
    "    StructField(\"Neighborhood Overview\", StringType(), True),\n",
    "    StructField(\"Notes\", StringType(), True),\n",
    "    StructField(\"Transit\", StringType(), True),\n",
    "    StructField(\"Access\", StringType(), True),\n",
    "    StructField(\"Interaction\", StringType(), True),\n",
    "    StructField(\"House Rules\", StringType(), True),\n",
    "    StructField(\"Thumbnail Url\", StringType(), True),\n",
    "    StructField(\"Medium Url\", StringType(), True),\n",
    "    StructField(\"Picture Url\", StringType(), True),\n",
    "    StructField(\"XL Picture Url\", StringType(), True),\n",
    "    StructField(\"Host ID\", StringType(), True),\n",
    "    StructField(\"Host URL\", StringType(), True),\n",
    "    StructField(\"Host Name\", StringType(), True),\n",
    "    StructField(\"Host Since\", StringType(), True),\n",
    "    StructField(\"Host Location\", StringType(), True),\n",
    "    StructField(\"Host About\", StringType(), True),\n",
    "    StructField(\"Host Response Time\", StringType(), True),\n",
    "    StructField(\"Host Response Rate\", StringType(), True),\n",
    "    StructField(\"Host Acceptance Rate\", StringType(), True),\n",
    "    StructField(\"Host Thumbnail Url\", StringType(), True),\n",
    "    StructField(\"Host Picture Url\", StringType(), True),\n",
    "    StructField(\"Host Neighbourhood\", StringType(), True),\n",
    "    StructField(\"Host Listings Count\", StringType(), True),\n",
    "    StructField(\"Host Total Listings Count\", StringType(), True),\n",
    "    StructField(\"Host Verifications\", StringType(), True),\n",
    "    StructField(\"Street\", StringType(), True),\n",
    "    StructField(\"Neighbourhood\", StringType(), True),\n",
    "    StructField(\"Neighbourhood Cleansed\", StringType(), True),\n",
    "    StructField(\"Neighbourhood Group Cleansed\", StringType(), True),\n",
    "    StructField(\"City\", StringType(), True),\n",
    "    StructField(\"State\", StringType(), True),\n",
    "    StructField(\"Zipcode\", StringType(), True),\n",
    "    StructField(\"Market\", StringType(), True),\n",
    "    StructField(\"Smart Location\", StringType(), True),\n",
    "    StructField(\"Country Code\", StringType(), True),\n",
    "    StructField(\"Country\", StringType(), True),\n",
    "    StructField(\"Latitude\", StringType(), True),\n",
    "    StructField(\"Longitude\", StringType(), True),\n",
    "    StructField(\"Property Type\", StringType(), True),\n",
    "    StructField(\"Room Type\", StringType(), True),\n",
    "    StructField(\"Accommodates\", StringType(), True),\n",
    "    StructField(\"Bathrooms\", StringType(), True),\n",
    "    StructField(\"Bedrooms\", StringType(), True),\n",
    "    StructField(\"Beds\", StringType(), True),\n",
    "    StructField(\"Bed Type\", StringType(), True),\n",
    "    StructField(\"Amenities\", StringType(), True),\n",
    "    StructField(\"Square Feet\", StringType(), True),\n",
    "    StructField(\"Price\", StringType(), True),\n",
    "    StructField(\"Weekly Price\", StringType(), True),\n",
    "    StructField(\"Monthly Price\", StringType(), True),\n",
    "    StructField(\"Security Deposit\", StringType(), True),\n",
    "    StructField(\"Cleaning Fee\", StringType(), True),\n",
    "    StructField(\"Guests Included\", StringType(), True),\n",
    "    StructField(\"Extra People\", StringType(), True),\n",
    "    StructField(\"Minimum Nights\", StringType(), True),\n",
    "    StructField(\"Maximum Nights\", StringType(), True),\n",
    "    StructField(\"Calendar Updated\", StringType(), True),\n",
    "    StructField(\"Has Availability\", StringType(), True),\n",
    "    StructField(\"Availability 30\", StringType(), True),\n",
    "    StructField(\"Availability 60\", StringType(), True),\n",
    "    StructField(\"Availability 90\", StringType(), True),\n",
    "    StructField(\"Availability 365\", StringType(), True),\n",
    "    StructField(\"Calendar last Scraped\", StringType(), True),\n",
    "    StructField(\"Number of Reviews\", StringType(), True),\n",
    "    StructField(\"First Review\", StringType(), True),\n",
    "    StructField(\"Last Review\", StringType(), True),\n",
    "    StructField(\"Review Scores Rating\", StringType(), True),\n",
    "    StructField(\"Review Scores Accuracy\", StringType(), True),\n",
    "    StructField(\"Review Scores Cleanliness\", StringType(), True),\n",
    "    StructField(\"Review Scores Checkin\", StringType(), True),\n",
    "    StructField(\"Review Scores Communication\", StringType(), True),\n",
    "    StructField(\"Review Scores Location\", StringType(), True),\n",
    "    StructField(\"Review Scores Value\", StringType(), True),\n",
    "    StructField(\"License\", StringType(), True),\n",
    "    StructField(\"Jurisdiction Names\", StringType(), True),\n",
    "    StructField(\"Cancellation Policy\", StringType(), True),\n",
    "    StructField(\"Calculated host listings count\", StringType(), True),\n",
    "    StructField(\"Reviews per Month\", StringType(), True),\n",
    "    StructField(\"Geolocation\", StringType(), True),\n",
    "    StructField(\"Features\", StringType(), True)\n",
    "])\n",
    "\n",
    "# Reading the data using the defined schema\n",
    "df = spark.read.csv(\"/mnt/datalake/airbnb-listings.csv\", schema=schema, header=True, sep=\";\")\n",
    "df.printSchema()\n",
    "df.show(5)\n"
   ]
  },
  {
   "cell_type": "code",
   "execution_count": 0,
   "metadata": {
    "application/vnd.databricks.v1+cell": {
     "cellMetadata": {
      "byteLimit": 2048000,
      "rowLimit": 10000
     },
     "inputWidgets": {},
     "nuid": "fc30684c-9488-4414-b345-efc6a01c0d5d",
     "showTitle": false,
     "title": ""
    }
   },
   "outputs": [
    {
     "output_type": "stream",
     "name": "stdout",
     "output_type": "stream",
     "text": [
      "+---+-----------+---------+------------+------+-------+------+-----------+-------------------+---------------------+------+-------+------+-----------+-----------+-------------+----------+-----------+--------------+-------+--------+---------+----------+-------------+----------+------------------+------------------+--------------------+------------------+----------------+------------------+-------------------+-------------------------+------------------+------+-------------+----------------------+----------------------------+------+------+-------+------+--------------+------------+-------+--------+---------+-------------+---------+------------+---------+--------+------+--------+---------+-----------+------+------------+-------------+----------------+------------+---------------+------------+--------------+--------------+----------------+----------------+---------------+---------------+---------------+----------------+---------------------+-----------------+------------+-----------+--------------------+----------------------+-------------------------+---------------------+---------------------------+----------------------+-------------------+-------+------------------+-------------------+------------------------------+-----------------+-----------+--------+\n| ID|Listing Url|Scrape ID|Last Scraped|  Name|Summary| Space|Description|Experiences Offered|Neighborhood Overview| Notes|Transit|Access|Interaction|House Rules|Thumbnail Url|Medium Url|Picture Url|XL Picture Url|Host ID|Host URL|Host Name|Host Since|Host Location|Host About|Host Response Time|Host Response Rate|Host Acceptance Rate|Host Thumbnail Url|Host Picture Url|Host Neighbourhood|Host Listings Count|Host Total Listings Count|Host Verifications|Street|Neighbourhood|Neighbourhood Cleansed|Neighbourhood Group Cleansed|  City| State|Zipcode|Market|Smart Location|Country Code|Country|Latitude|Longitude|Property Type|Room Type|Accommodates|Bathrooms|Bedrooms|  Beds|Bed Type|Amenities|Square Feet| Price|Weekly Price|Monthly Price|Security Deposit|Cleaning Fee|Guests Included|Extra People|Minimum Nights|Maximum Nights|Calendar Updated|Has Availability|Availability 30|Availability 60|Availability 90|Availability 365|Calendar last Scraped|Number of Reviews|First Review|Last Review|Review Scores Rating|Review Scores Accuracy|Review Scores Cleanliness|Review Scores Checkin|Review Scores Communication|Review Scores Location|Review Scores Value|License|Jurisdiction Names|Cancellation Policy|Calculated host listings count|Reviews per Month|Geolocation|Features|\n+---+-----------+---------+------------+------+-------+------+-----------+-------------------+---------------------+------+-------+------+-----------+-----------+-------------+----------+-----------+--------------+-------+--------+---------+----------+-------------+----------+------------------+------------------+--------------------+------------------+----------------+------------------+-------------------+-------------------------+------------------+------+-------------+----------------------+----------------------------+------+------+-------+------+--------------+------------+-------+--------+---------+-------------+---------+------------+---------+--------+------+--------+---------+-----------+------+------------+-------------+----------------+------------+---------------+------------+--------------+--------------+----------------+----------------+---------------+---------------+---------------+----------------+---------------------+-----------------+------------+-----------+--------------------+----------------------+-------------------------+---------------------+---------------------------+----------------------+-------------------+-------+------------------+-------------------+------------------------------+-----------------+-----------+--------+\n| 71|     298206|   303838|      403900|288069| 301661|460101|     286193|             285512|               488248|581586| 513111|512458|     628658|     485470|       394525|    385732|     288329|        380152| 286155|  285981|   286244|    286163|       287878|    483191|            513326|            515028|              748811|            421098|          420362|            516131|             545317|                   424175|            519321|519867|       599275|                460133|                      703791|420920|455687| 434039|424029|        547782|      421917| 419446|  419357|   419321|       419345|   419326|      442973|   444357|  444689|445168|  444375|   448395|     796460|451943|      738770|       842818|          741689|      561292|         420871|      443506|        419979|        419573|          550355|          904664|         554327|         553801|         553167|          553133|               553067|           553069|      650749|     650793|              655893|                656645|                   656464|               656938|                     656523|                656891|             656978| 902707|            814974|             554785|                        554363|           651002|     553363|  553540|\n+---+-----------+---------+------------+------+-------+------+-----------+-------------------+---------------------+------+-------+------+-----------+-----------+-------------+----------+-----------+--------------+-------+--------+---------+----------+-------------+----------+------------------+------------------+--------------------+------------------+----------------+------------------+-------------------+-------------------------+------------------+------+-------------+----------------------+----------------------------+------+------+-------+------+--------------+------------+-------+--------+---------+-------------+---------+------------+---------+--------+------+--------+---------+-----------+------+------------+-------------+----------------+------------+---------------+------------+--------------+--------------+----------------+----------------+---------------+---------------+---------------+----------------+---------------------+-----------------+------------+-----------+--------------------+----------------------+-------------------------+---------------------+---------------------------+----------------------+-------------------+-------+------------------+-------------------+------------------------------+-----------------+-----------+--------+\n\n"
     ]
    }
   ],
   "source": [
    "from pyspark.sql.functions import col, isnan, when, count\n",
    "\n",
    "# Count nulls and NaNs per column\n",
    "df.select([count(when(col(c).isNull() | isnan(c), c)).alias(c) for c in df.columns]).show()\n"
   ]
  },
  {
   "cell_type": "code",
   "execution_count": 0,
   "metadata": {
    "application/vnd.databricks.v1+cell": {
     "cellMetadata": {
      "byteLimit": 2048000,
      "rowLimit": 10000
     },
     "inputWidgets": {},
     "nuid": "4f453a65-b8df-4590-adb4-742eb5780881",
     "showTitle": false,
     "title": ""
    }
   },
   "outputs": [],
   "source": [
    "df_cleaned = df.na.drop(how='any')\n"
   ]
  },
  {
   "cell_type": "code",
   "execution_count": 0,
   "metadata": {
    "application/vnd.databricks.v1+cell": {
     "cellMetadata": {
      "byteLimit": 2048000,
      "rowLimit": 10000
     },
     "inputWidgets": {},
     "nuid": "ffd0c844-d3d8-4c03-8731-6eedb12e88d5",
     "showTitle": false,
     "title": ""
    }
   },
   "outputs": [],
   "source": [
    "df_cleaned = df.drop(\"Square Feet\", \"Notes\")  # Example of dropping columns\n"
   ]
  },
  {
   "cell_type": "code",
   "execution_count": 0,
   "metadata": {
    "application/vnd.databricks.v1+cell": {
     "cellMetadata": {
      "byteLimit": 2048000,
      "rowLimit": 10000
     },
     "inputWidgets": {},
     "nuid": "110ccc03-d878-472e-9866-c05ceff061f8",
     "showTitle": false,
     "title": ""
    }
   },
   "outputs": [],
   "source": [
    "# Convert string columns to numeric where needed\n",
    "df_casted = df_cleaned.withColumn(\"Price\", col(\"Price\").cast(\"double\")) \\\n",
    "                      .withColumn(\"Accommodates\", col(\"Accommodates\").cast(\"int\")) \\\n",
    "                      .withColumn(\"Bedrooms\", col(\"Bedrooms\").cast(\"int\"))\n"
   ]
  },
  {
   "cell_type": "code",
   "execution_count": 0,
   "metadata": {
    "application/vnd.databricks.v1+cell": {
     "cellMetadata": {
      "byteLimit": 2048000,
      "rowLimit": 10000
     },
     "inputWidgets": {},
     "nuid": "a65a13ab-e60b-4f5d-bb34-e233c5dba224",
     "showTitle": false,
     "title": ""
    }
   },
   "outputs": [
    {
     "output_type": "stream",
     "name": "stdout",
     "output_type": "stream",
     "text": [
      "+--------------------+--------------------+--------------+------------+--------------------+--------------------+--------------------+--------------------+-------------------+---------------------+--------------------+--------------------+--------------------+--------------------+--------------------+--------------------+--------------------+--------------------+--------+--------------------+-----------------+-----------------+--------------------+--------------------+------------------+------------------+--------------------+------------------+----------------+--------------------+-------------------+-------------------------+------------------+------+-------------+----------------------+----------------------------+----+-----+-------+-----------+--------------+------------+-------+--------+---------+-------------+---------+------------+----------+--------+----+--------+---------+-----+------------+-------------+----------------+------------+---------------+------------+--------------------+--------------------+----------------+----------------+---------------+---------------+---------------+----------------+---------------------+-----------------+------------+-----------+--------------------+----------------------+-------------------------+---------------------+---------------------------+----------------------+-------------------+-------+------------------+-------------------+------------------------------+-----------------+-----------+--------+\n|                  ID|         Listing Url|     Scrape ID|Last Scraped|                Name|             Summary|               Space|         Description|Experiences Offered|Neighborhood Overview|             Transit|              Access|         Interaction|         House Rules|       Thumbnail Url|          Medium Url|         Picture Url|      XL Picture Url| Host ID|            Host URL|        Host Name|       Host Since|       Host Location|          Host About|Host Response Time|Host Response Rate|Host Acceptance Rate|Host Thumbnail Url|Host Picture Url|  Host Neighbourhood|Host Listings Count|Host Total Listings Count|Host Verifications|Street|Neighbourhood|Neighbourhood Cleansed|Neighbourhood Group Cleansed|City|State|Zipcode|     Market|Smart Location|Country Code|Country|Latitude|Longitude|Property Type|Room Type|Accommodates| Bathrooms|Bedrooms|Beds|Bed Type|Amenities|Price|Weekly Price|Monthly Price|Security Deposit|Cleaning Fee|Guests Included|Extra People|      Minimum Nights|      Maximum Nights|Calendar Updated|Has Availability|Availability 30|Availability 60|Availability 90|Availability 365|Calendar last Scraped|Number of Reviews|First Review|Last Review|Review Scores Rating|Review Scores Accuracy|Review Scores Cleanliness|Review Scores Checkin|Review Scores Communication|Review Scores Location|Review Scores Value|License|Jurisdiction Names|Cancellation Policy|Calculated host listings count|Reviews per Month|Geolocation|Features|\n+--------------------+--------------------+--------------+------------+--------------------+--------------------+--------------------+--------------------+-------------------+---------------------+--------------------+--------------------+--------------------+--------------------+--------------------+--------------------+--------------------+--------------------+--------+--------------------+-----------------+-----------------+--------------------+--------------------+------------------+------------------+--------------------+------------------+----------------+--------------------+-------------------+-------------------------+------------------+------+-------------+----------------------+----------------------------+----+-----+-------+-----------+--------------+------------+-------+--------+---------+-------------+---------+------------+----------+--------+----+--------+---------+-----+------------+-------------+----------------+------------+---------------+------------+--------------------+--------------------+----------------+----------------+---------------+---------------+---------------+----------------+---------------------+-----------------+------------+-----------+--------------------+----------------------+-------------------------+---------------------+---------------------------+----------------------+-------------------+-------+------------------+-------------------+------------------------------+-----------------+-----------+--------+\n|             4008728|https://www.airbn...|20170402075052|  2017-04-02|Luxurious 3 bedro...|‪This luxurious a...|In the heart of h...|‪This luxurious a...|               none| There is a wide v...|                NULL|                NULL|                NULL|I expect you to t...|https://a0.muscac...|https://a0.muscac...|https://public.op...|https://a0.muscac...|20786453|https://www.airbn...|           Lithal|       2014-09-01|Amsterdam, North ...|Hi there! As I lo...|              NULL|              NULL|                NULL|              NULL|            NULL|                NULL|               NULL|                     NULL|              NULL|  NULL|         NULL|                  NULL|                        NULL|NULL| NULL|   NULL|       NULL|          NULL|        NULL|   NULL|    NULL|     NULL|         NULL|     NULL|        NULL|      NULL|    NULL|NULL|    NULL|     NULL| NULL|        NULL|         NULL|            NULL|        NULL|           NULL|        NULL|                NULL|                NULL|            NULL|            NULL|           NULL|           NULL|           NULL|            NULL|                 NULL|             NULL|        NULL|       NULL|                NULL|                  NULL|                     NULL|                 NULL|                       NULL|                  NULL|               NULL|   NULL|              NULL|               NULL|                          NULL|             NULL|       NULL|    NULL|\n| Also very important| to stay in an ap...|          NULL|        NULL|                NULL|                NULL|                NULL|                NULL|               NULL|                 NULL|                NULL|                NULL|                NULL|                NULL|                NULL|                NULL|                NULL|                NULL|    NULL|                NULL|             NULL|             NULL|                NULL|                NULL|              NULL|              NULL|                NULL|              NULL|            NULL|                NULL|               NULL|                     NULL|              NULL|  NULL|         NULL|                  NULL|                        NULL|NULL| NULL|   NULL|       NULL|          NULL|        NULL|   NULL|    NULL|     NULL|         NULL|     NULL|        NULL|      NULL|    NULL|NULL|    NULL|     NULL| NULL|        NULL|         NULL|            NULL|        NULL|           NULL|        NULL|                NULL|                NULL|            NULL|            NULL|           NULL|           NULL|           NULL|            NULL|                 NULL|             NULL|        NULL|       NULL|                NULL|                  NULL|                     NULL|                 NULL|                       NULL|                  NULL|               NULL|   NULL|              NULL|               NULL|                          NULL|             NULL|       NULL|    NULL|\n|As I'm in between...|                NULL|          NULL|        NULL|                NULL|                NULL|                NULL|                NULL|               NULL|                 NULL|                NULL|                NULL|                NULL|                NULL|                NULL|                NULL|                NULL|                NULL|    NULL|                NULL|             NULL|             NULL|                NULL|                NULL|              NULL|              NULL|                NULL|              NULL|            NULL|                NULL|               NULL|                     NULL|              NULL|  NULL|         NULL|                  NULL|                        NULL|NULL| NULL|   NULL|       NULL|          NULL|        NULL|   NULL|    NULL|     NULL|         NULL|     NULL|        NULL|      NULL|    NULL|NULL|    NULL|     NULL| NULL|        NULL|         NULL|            NULL|        NULL|           NULL|        NULL|                NULL|                NULL|            NULL|            NULL|           NULL|           NULL|           NULL|            NULL|                 NULL|             NULL|        NULL|       NULL|                NULL|                  NULL|                     NULL|                 NULL|                       NULL|                  NULL|               NULL|   NULL|              NULL|               NULL|                          NULL|             NULL|       NULL|    NULL|\n|So I'm going to m...|        within a day|            50|        NULL|https://a0.muscac...|https://a0.muscac...|            Oud-West|                   1|                  1| email,phone,faceb...|            Oud-West|De Baarsjes - Oud...|                NULL|           Amsterdam|       North Holland|             1054 AA|           Amsterdam|Amsterdam, Nether...|      NL|         Netherlands|52.36523660409065|4.878249575101092|           Apartment|     Entire home/apt|                 6|               1.0|                   3|                 3|        Real Bed|TV,Internet,Wirel...|               NULL|                      600|              NULL|  6000|          500|                    50|                           4|  50|    2|   1125|3 weeks ago|          NULL|          14|     44|      74|       74|   2017-04-02|       31|  2015-08-02|2016-11-27|      89|   9|       8|        9|   10|           9|         NULL|       Amsterdam|      strict|              1|        1.52|52.36523660409065...|Host Has Profile ...|            NULL|            NULL|           NULL|           NULL|           NULL|            NULL|                 NULL|             NULL|        NULL|       NULL|                NULL|                  NULL|                     NULL|                 NULL|                       NULL|                  NULL|               NULL|   NULL|              NULL|               NULL|                          NULL|             NULL|       NULL|    NULL|\n|             7778612|https://www.airbn...|20170402075052|  2017-04-02|Luxury apartment ...|Beautiful, large ...|1 living room 1 d...|Beautiful, large ...|               none| Within a few minu...|Public transport ...|                NULL|You'll have the a...|no smoking inside...|                NULL|                NULL|https://public.op...|                NULL|11964927|https://www.airbn...|             Hein|       2014-02-05|Amsterdam, North ...|I live together w...|              NULL|              NULL|                NULL|              NULL|            NULL|                NULL|               NULL|                     NULL|              NULL|  NULL|         NULL|                  NULL|                        NULL|NULL| NULL|   NULL|       NULL|          NULL|        NULL|   NULL|    NULL|     NULL|         NULL|     NULL|        NULL|      NULL|    NULL|NULL|    NULL|     NULL| NULL|        NULL|         NULL|            NULL|        NULL|           NULL|        NULL|                NULL|                NULL|            NULL|            NULL|           NULL|           NULL|           NULL|            NULL|                 NULL|             NULL|        NULL|       NULL|                NULL|                  NULL|                     NULL|                 NULL|                       NULL|                  NULL|               NULL|   NULL|              NULL|               NULL|                          NULL|             NULL|       NULL|    NULL|\n+--------------------+--------------------+--------------+------------+--------------------+--------------------+--------------------+--------------------+-------------------+---------------------+--------------------+--------------------+--------------------+--------------------+--------------------+--------------------+--------------------+--------------------+--------+--------------------+-----------------+-----------------+--------------------+--------------------+------------------+------------------+--------------------+------------------+----------------+--------------------+-------------------+-------------------------+------------------+------+-------------+----------------------+----------------------------+----+-----+-------+-----------+--------------+------------+-------+--------+---------+-------------+---------+------------+----------+--------+----+--------+---------+-----+------------+-------------+----------------+------------+---------------+------------+--------------------+--------------------+----------------+----------------+---------------+---------------+---------------+----------------+---------------------+-----------------+------------+-----------+--------------------+----------------------+-------------------------+---------------------+---------------------------+----------------------+-------------------+-------+------------------+-------------------+------------------------------+-----------------+-----------+--------+\nonly showing top 5 rows\n\n"
     ]
    }
   ],
   "source": [
    "df_cleaned.show(5)"
   ]
  },
  {
   "cell_type": "code",
   "execution_count": 0,
   "metadata": {
    "application/vnd.databricks.v1+cell": {
     "cellMetadata": {
      "byteLimit": 2048000,
      "rowLimit": 10000
     },
     "inputWidgets": {},
     "nuid": "b2ea091f-4ab0-4ef9-b839-20301d62a93a",
     "showTitle": false,
     "title": ""
    }
   },
   "outputs": [
    {
     "output_type": "stream",
     "name": "stdout",
     "output_type": "stream",
     "text": [
      "root\n |-- ID: string (nullable = true)\n |-- Listing Url: string (nullable = true)\n |-- Scrape ID: string (nullable = true)\n |-- Last Scraped: string (nullable = true)\n |-- Name: string (nullable = true)\n |-- Summary: string (nullable = true)\n |-- Space: string (nullable = true)\n |-- Description: string (nullable = true)\n |-- Experiences Offered: string (nullable = true)\n |-- Neighborhood Overview: string (nullable = true)\n |-- Notes: string (nullable = true)\n |-- Transit: string (nullable = true)\n |-- Access: string (nullable = true)\n |-- Interaction: string (nullable = true)\n |-- House Rules: string (nullable = true)\n |-- Thumbnail Url: string (nullable = true)\n |-- Medium Url: string (nullable = true)\n |-- Picture Url: string (nullable = true)\n |-- XL Picture Url: string (nullable = true)\n |-- Host ID: string (nullable = true)\n |-- Host URL: string (nullable = true)\n |-- Host Name: string (nullable = true)\n |-- Host Since: string (nullable = true)\n |-- Host Location: string (nullable = true)\n |-- Host About: string (nullable = true)\n |-- Host Response Time: string (nullable = true)\n |-- Host Response Rate: string (nullable = true)\n |-- Host Acceptance Rate: string (nullable = true)\n |-- Host Thumbnail Url: string (nullable = true)\n |-- Host Picture Url: string (nullable = true)\n |-- Host Neighbourhood: string (nullable = true)\n |-- Host Listings Count: string (nullable = true)\n |-- Host Total Listings Count: string (nullable = true)\n |-- Host Verifications: string (nullable = true)\n |-- Street: string (nullable = true)\n |-- Neighbourhood: string (nullable = true)\n |-- Neighbourhood Cleansed: string (nullable = true)\n |-- Neighbourhood Group Cleansed: string (nullable = true)\n |-- City: string (nullable = true)\n |-- State: string (nullable = true)\n |-- Zipcode: string (nullable = true)\n |-- Market: string (nullable = true)\n |-- Smart Location: string (nullable = true)\n |-- Country Code: string (nullable = true)\n |-- Country: string (nullable = true)\n |-- Latitude: string (nullable = true)\n |-- Longitude: string (nullable = true)\n |-- Property Type: string (nullable = true)\n |-- Room Type: string (nullable = true)\n |-- Accommodates: string (nullable = true)\n |-- Bathrooms: string (nullable = true)\n |-- Bedrooms: string (nullable = true)\n |-- Beds: string (nullable = true)\n |-- Bed Type: string (nullable = true)\n |-- Amenities: string (nullable = true)\n |-- Square Feet: string (nullable = true)\n |-- Price: string (nullable = true)\n |-- Weekly Price: string (nullable = true)\n |-- Monthly Price: string (nullable = true)\n |-- Security Deposit: string (nullable = true)\n |-- Cleaning Fee: string (nullable = true)\n |-- Guests Included: string (nullable = true)\n |-- Extra People: string (nullable = true)\n |-- Minimum Nights: string (nullable = true)\n |-- Maximum Nights: string (nullable = true)\n |-- Calendar Updated: string (nullable = true)\n |-- Has Availability: string (nullable = true)\n |-- Availability 30: string (nullable = true)\n |-- Availability 60: string (nullable = true)\n |-- Availability 90: string (nullable = true)\n |-- Availability 365: string (nullable = true)\n |-- Calendar last Scraped: string (nullable = true)\n |-- Number of Reviews: string (nullable = true)\n |-- First Review: string (nullable = true)\n |-- Last Review: string (nullable = true)\n |-- Review Scores Rating: string (nullable = true)\n |-- Review Scores Accuracy: string (nullable = true)\n |-- Review Scores Cleanliness: string (nullable = true)\n |-- Review Scores Checkin: string (nullable = true)\n |-- Review Scores Communication: string (nullable = true)\n |-- Review Scores Location: string (nullable = true)\n |-- Review Scores Value: string (nullable = true)\n |-- License: string (nullable = true)\n |-- Jurisdiction Names: string (nullable = true)\n |-- Cancellation Policy: string (nullable = true)\n |-- Calculated host listings count: string (nullable = true)\n |-- Reviews per Month: string (nullable = true)\n |-- Geolocation: string (nullable = true)\n |-- Features: string (nullable = true)\n\n+--------------------+--------------------+--------------+------------+--------------------+--------------------+--------------------+--------------------+-------------------+---------------------+--------------------+--------------------+--------------------+--------------------+--------------------+--------------------+--------------------+--------------------+--------------------+--------+--------------------+-----------------+-----------------+--------------------+--------------------+------------------+------------------+--------------------+------------------+----------------+--------------------+-------------------+-------------------------+------------------+------+-------------+----------------------+----------------------------+----+-----+-------+-----------+--------------+------------+-------+--------+---------+-------------+---------+------------+----------+--------+----+--------+---------+-----------+-----+------------+-------------+----------------+------------+---------------+------------+--------------------+--------------------+----------------+----------------+---------------+---------------+---------------+----------------+---------------------+-----------------+------------+-----------+--------------------+----------------------+-------------------------+---------------------+---------------------------+----------------------+-------------------+-------+------------------+-------------------+------------------------------+-----------------+-----------+--------+\n|                  ID|         Listing Url|     Scrape ID|Last Scraped|                Name|             Summary|               Space|         Description|Experiences Offered|Neighborhood Overview|               Notes|             Transit|              Access|         Interaction|         House Rules|       Thumbnail Url|          Medium Url|         Picture Url|      XL Picture Url| Host ID|            Host URL|        Host Name|       Host Since|       Host Location|          Host About|Host Response Time|Host Response Rate|Host Acceptance Rate|Host Thumbnail Url|Host Picture Url|  Host Neighbourhood|Host Listings Count|Host Total Listings Count|Host Verifications|Street|Neighbourhood|Neighbourhood Cleansed|Neighbourhood Group Cleansed|City|State|Zipcode|     Market|Smart Location|Country Code|Country|Latitude|Longitude|Property Type|Room Type|Accommodates| Bathrooms|Bedrooms|Beds|Bed Type|Amenities|Square Feet|Price|Weekly Price|Monthly Price|Security Deposit|Cleaning Fee|Guests Included|Extra People|      Minimum Nights|      Maximum Nights|Calendar Updated|Has Availability|Availability 30|Availability 60|Availability 90|Availability 365|Calendar last Scraped|Number of Reviews|First Review|Last Review|Review Scores Rating|Review Scores Accuracy|Review Scores Cleanliness|Review Scores Checkin|Review Scores Communication|Review Scores Location|Review Scores Value|License|Jurisdiction Names|Cancellation Policy|Calculated host listings count|Reviews per Month|Geolocation|Features|\n+--------------------+--------------------+--------------+------------+--------------------+--------------------+--------------------+--------------------+-------------------+---------------------+--------------------+--------------------+--------------------+--------------------+--------------------+--------------------+--------------------+--------------------+--------------------+--------+--------------------+-----------------+-----------------+--------------------+--------------------+------------------+------------------+--------------------+------------------+----------------+--------------------+-------------------+-------------------------+------------------+------+-------------+----------------------+----------------------------+----+-----+-------+-----------+--------------+------------+-------+--------+---------+-------------+---------+------------+----------+--------+----+--------+---------+-----------+-----+------------+-------------+----------------+------------+---------------+------------+--------------------+--------------------+----------------+----------------+---------------+---------------+---------------+----------------+---------------------+-----------------+------------+-----------+--------------------+----------------------+-------------------------+---------------------+---------------------------+----------------------+-------------------+-------+------------------+-------------------+------------------------------+-----------------+-----------+--------+\n|             4008728|https://www.airbn...|20170402075052|  2017-04-02|Luxurious 3 bedro...|‪This luxurious a...|In the heart of h...|‪This luxurious a...|               none| There is a wide v...|Perfect location ...|                NULL|                NULL|                NULL|I expect you to t...|https://a0.muscac...|https://a0.muscac...|https://public.op...|https://a0.muscac...|20786453|https://www.airbn...|           Lithal|       2014-09-01|Amsterdam, North ...|Hi there! As I lo...|              NULL|              NULL|                NULL|              NULL|            NULL|                NULL|               NULL|                     NULL|              NULL|  NULL|         NULL|                  NULL|                        NULL|NULL| NULL|   NULL|       NULL|          NULL|        NULL|   NULL|    NULL|     NULL|         NULL|     NULL|        NULL|      NULL|    NULL|NULL|    NULL|     NULL|       NULL| NULL|        NULL|         NULL|            NULL|        NULL|           NULL|        NULL|                NULL|                NULL|            NULL|            NULL|           NULL|           NULL|           NULL|            NULL|                 NULL|             NULL|        NULL|       NULL|                NULL|                  NULL|                     NULL|                 NULL|                       NULL|                  NULL|               NULL|   NULL|              NULL|               NULL|                          NULL|             NULL|       NULL|    NULL|\n| Also very important| to stay in an ap...|          NULL|        NULL|                NULL|                NULL|                NULL|                NULL|               NULL|                 NULL|                NULL|                NULL|                NULL|                NULL|                NULL|                NULL|                NULL|                NULL|                NULL|    NULL|                NULL|             NULL|             NULL|                NULL|                NULL|              NULL|              NULL|                NULL|              NULL|            NULL|                NULL|               NULL|                     NULL|              NULL|  NULL|         NULL|                  NULL|                        NULL|NULL| NULL|   NULL|       NULL|          NULL|        NULL|   NULL|    NULL|     NULL|         NULL|     NULL|        NULL|      NULL|    NULL|NULL|    NULL|     NULL|       NULL| NULL|        NULL|         NULL|            NULL|        NULL|           NULL|        NULL|                NULL|                NULL|            NULL|            NULL|           NULL|           NULL|           NULL|            NULL|                 NULL|             NULL|        NULL|       NULL|                NULL|                  NULL|                     NULL|                 NULL|                       NULL|                  NULL|               NULL|   NULL|              NULL|               NULL|                          NULL|             NULL|       NULL|    NULL|\n|As I'm in between...|                NULL|          NULL|        NULL|                NULL|                NULL|                NULL|                NULL|               NULL|                 NULL|                NULL|                NULL|                NULL|                NULL|                NULL|                NULL|                NULL|                NULL|                NULL|    NULL|                NULL|             NULL|             NULL|                NULL|                NULL|              NULL|              NULL|                NULL|              NULL|            NULL|                NULL|               NULL|                     NULL|              NULL|  NULL|         NULL|                  NULL|                        NULL|NULL| NULL|   NULL|       NULL|          NULL|        NULL|   NULL|    NULL|     NULL|         NULL|     NULL|        NULL|      NULL|    NULL|NULL|    NULL|     NULL|       NULL| NULL|        NULL|         NULL|            NULL|        NULL|           NULL|        NULL|                NULL|                NULL|            NULL|            NULL|           NULL|           NULL|           NULL|            NULL|                 NULL|             NULL|        NULL|       NULL|                NULL|                  NULL|                     NULL|                 NULL|                       NULL|                  NULL|               NULL|   NULL|              NULL|               NULL|                          NULL|             NULL|       NULL|    NULL|\n|So I'm going to m...|        within a day|            50|        NULL|https://a0.muscac...|https://a0.muscac...|            Oud-West|                   1|                  1| email,phone,faceb...|Oud-West, Amsterd...|            Oud-West|De Baarsjes - Oud...|                NULL|           Amsterdam|       North Holland|             1054 AA|           Amsterdam|Amsterdam, Nether...|      NL|         Netherlands|52.36523660409065|4.878249575101092|           Apartment|     Entire home/apt|                 6|               1.0|                   3|                 3|        Real Bed|TV,Internet,Wirel...|               NULL|                      600|              NULL|  6000|          500|                    50|                           4|  50|    2|   1125|3 weeks ago|          NULL|          14|     44|      74|       74|   2017-04-02|       31|  2015-08-02|2016-11-27|      89|   9|       8|        9|         10|   10|           9|         NULL|       Amsterdam|      strict|              1|        1.52|52.36523660409065...|Host Has Profile ...|            NULL|            NULL|           NULL|           NULL|           NULL|            NULL|                 NULL|             NULL|        NULL|       NULL|                NULL|                  NULL|                     NULL|                 NULL|                       NULL|                  NULL|               NULL|   NULL|              NULL|               NULL|                          NULL|             NULL|       NULL|    NULL|\n|             7778612|https://www.airbn...|20170402075052|  2017-04-02|Luxury apartment ...|Beautiful, large ...|1 living room 1 d...|Beautiful, large ...|               none| Within a few minu...|                NULL|Public transport ...|                NULL|You'll have the a...|no smoking inside...|                NULL|                NULL|https://public.op...|                NULL|11964927|https://www.airbn...|             Hein|       2014-02-05|Amsterdam, North ...|I live together w...|              NULL|              NULL|                NULL|              NULL|            NULL|                NULL|               NULL|                     NULL|              NULL|  NULL|         NULL|                  NULL|                        NULL|NULL| NULL|   NULL|       NULL|          NULL|        NULL|   NULL|    NULL|     NULL|         NULL|     NULL|        NULL|      NULL|    NULL|NULL|    NULL|     NULL|       NULL| NULL|        NULL|         NULL|            NULL|        NULL|           NULL|        NULL|                NULL|                NULL|            NULL|            NULL|           NULL|           NULL|           NULL|            NULL|                 NULL|             NULL|        NULL|       NULL|                NULL|                  NULL|                     NULL|                 NULL|                       NULL|                  NULL|               NULL|   NULL|              NULL|               NULL|                          NULL|             NULL|       NULL|    NULL|\n+--------------------+--------------------+--------------+------------+--------------------+--------------------+--------------------+--------------------+-------------------+---------------------+--------------------+--------------------+--------------------+--------------------+--------------------+--------------------+--------------------+--------------------+--------------------+--------+--------------------+-----------------+-----------------+--------------------+--------------------+------------------+------------------+--------------------+------------------+----------------+--------------------+-------------------+-------------------------+------------------+------+-------------+----------------------+----------------------------+----+-----+-------+-----------+--------------+------------+-------+--------+---------+-------------+---------+------------+----------+--------+----+--------+---------+-----------+-----+------------+-------------+----------------+------------+---------------+------------+--------------------+--------------------+----------------+----------------+---------------+---------------+---------------+----------------+---------------------+-----------------+------------+-----------+--------------------+----------------------+-------------------------+---------------------+---------------------------+----------------------+-------------------+-------+------------------+-------------------+------------------------------+-----------------+-----------+--------+\nonly showing top 5 rows\n\n"
     ]
    }
   ],
   "source": [
    "from pyspark.sql.functions import col, when, count\n",
    "\n",
    "# Calculate total number of rows\n",
    "total_rows = df.count()\n",
    "\n",
    "# Count nulls across all columns in a single pass\n",
    "null_counts = df.select([count(when(col(c).isNull(), c)).alias(c) for c in df.columns]).collect()[0]\n",
    "\n",
    "# Identify columns with all null values\n",
    "all_null_columns = [c for c, null_count in zip(df.columns, null_counts) if null_count == total_rows]\n",
    "\n",
    "# Drop columns with all null values\n",
    "df_cleaned = df.drop(*all_null_columns)\n",
    "\n",
    "# Display the cleaned schema\n",
    "df_cleaned.printSchema()\n",
    "\n",
    "# Show the cleaned DataFrame\n",
    "df_cleaned.show(5)\n"
   ]
  },
  {
   "cell_type": "markdown",
   "metadata": {
    "application/vnd.databricks.v1+cell": {
     "cellMetadata": {},
     "inputWidgets": {},
     "nuid": "df416f72-d8dd-43a4-9c88-6b29ea7b9d37",
     "showTitle": false,
     "title": ""
    }
   },
   "source": [
    "# Implementación de particiones avanzadas"
   ]
  },
  {
   "cell_type": "markdown",
   "metadata": {
    "application/vnd.databricks.v1+cell": {
     "cellMetadata": {},
     "inputWidgets": {},
     "nuid": "cb6a28dd-b597-4308-b832-bd7cc4221a55",
     "showTitle": false,
     "title": ""
    }
   },
   "source": [
    "Análisis del dataset"
   ]
  },
  {
   "cell_type": "code",
   "execution_count": 0,
   "metadata": {
    "application/vnd.databricks.v1+cell": {
     "cellMetadata": {
      "byteLimit": 2048000,
      "rowLimit": 10000
     },
     "inputWidgets": {},
     "nuid": "a48e3941-7e03-4174-a4c5-773da01c518d",
     "showTitle": false,
     "title": ""
    }
   },
   "outputs": [
    {
     "output_type": "stream",
     "name": "stdout",
     "output_type": "stream",
     "text": [
      "root\n |-- ID: string (nullable = true)\n |-- Listing Url: string (nullable = true)\n |-- Scrape ID: string (nullable = true)\n |-- Last Scraped: string (nullable = true)\n |-- Name: string (nullable = true)\n |-- Summary: string (nullable = true)\n |-- Space: string (nullable = true)\n |-- Description: string (nullable = true)\n |-- Experiences Offered: string (nullable = true)\n |-- Neighborhood Overview: string (nullable = true)\n |-- Notes: string (nullable = true)\n |-- Transit: string (nullable = true)\n |-- Access: string (nullable = true)\n |-- Interaction: string (nullable = true)\n |-- House Rules: string (nullable = true)\n |-- Thumbnail Url: string (nullable = true)\n |-- Medium Url: string (nullable = true)\n |-- Picture Url: string (nullable = true)\n |-- XL Picture Url: string (nullable = true)\n |-- Host ID: string (nullable = true)\n |-- Host URL: string (nullable = true)\n |-- Host Name: string (nullable = true)\n |-- Host Since: string (nullable = true)\n |-- Host Location: string (nullable = true)\n |-- Host About: string (nullable = true)\n |-- Host Response Time: string (nullable = true)\n |-- Host Response Rate: string (nullable = true)\n |-- Host Acceptance Rate: string (nullable = true)\n |-- Host Thumbnail Url: string (nullable = true)\n |-- Host Picture Url: string (nullable = true)\n |-- Host Neighbourhood: string (nullable = true)\n |-- Host Listings Count: string (nullable = true)\n |-- Host Total Listings Count: string (nullable = true)\n |-- Host Verifications: string (nullable = true)\n |-- Street: string (nullable = true)\n |-- Neighbourhood: string (nullable = true)\n |-- Neighbourhood Cleansed: string (nullable = true)\n |-- Neighbourhood Group Cleansed: string (nullable = true)\n |-- City: string (nullable = true)\n |-- State: string (nullable = true)\n |-- Zipcode: string (nullable = true)\n |-- Market: string (nullable = true)\n |-- Smart Location: string (nullable = true)\n |-- Country Code: string (nullable = true)\n |-- Country: string (nullable = true)\n |-- Latitude: string (nullable = true)\n |-- Longitude: string (nullable = true)\n |-- Property Type: string (nullable = true)\n |-- Room Type: string (nullable = true)\n |-- Accommodates: string (nullable = true)\n |-- Bathrooms: string (nullable = true)\n |-- Bedrooms: string (nullable = true)\n |-- Beds: string (nullable = true)\n |-- Bed Type: string (nullable = true)\n |-- Amenities: string (nullable = true)\n |-- Square Feet: string (nullable = true)\n |-- Price: string (nullable = true)\n |-- Weekly Price: string (nullable = true)\n |-- Monthly Price: string (nullable = true)\n |-- Security Deposit: string (nullable = true)\n |-- Cleaning Fee: string (nullable = true)\n |-- Guests Included: string (nullable = true)\n |-- Extra People: string (nullable = true)\n |-- Minimum Nights: string (nullable = true)\n |-- Maximum Nights: string (nullable = true)\n |-- Calendar Updated: string (nullable = true)\n |-- Has Availability: string (nullable = true)\n |-- Availability 30: string (nullable = true)\n |-- Availability 60: string (nullable = true)\n |-- Availability 90: string (nullable = true)\n |-- Availability 365: string (nullable = true)\n |-- Calendar last Scraped: string (nullable = true)\n |-- Number of Reviews: string (nullable = true)\n |-- First Review: string (nullable = true)\n |-- Last Review: string (nullable = true)\n |-- Review Scores Rating: string (nullable = true)\n |-- Review Scores Accuracy: string (nullable = true)\n |-- Review Scores Cleanliness: string (nullable = true)\n |-- Review Scores Checkin: string (nullable = true)\n |-- Review Scores Communication: string (nullable = true)\n |-- Review Scores Location: string (nullable = true)\n |-- Review Scores Value: string (nullable = true)\n |-- License: string (nullable = true)\n |-- Jurisdiction Names: string (nullable = true)\n |-- Cancellation Policy: string (nullable = true)\n |-- Calculated host listings count: string (nullable = true)\n |-- Reviews per Month: string (nullable = true)\n |-- Geolocation: string (nullable = true)\n |-- Features: string (nullable = true)\n\n+--------------------+--------------------+--------------+------------+--------------------+--------------------+--------------------+--------------------+-------------------+---------------------+--------------------+--------------------+--------------------+--------------------+--------------------+--------------------+--------------------+--------------------+--------------------+--------+--------------------+-----------------+-----------------+--------------------+--------------------+------------------+------------------+--------------------+------------------+----------------+--------------------+-------------------+-------------------------+------------------+------+-------------+----------------------+----------------------------+----+-----+-------+-----------+--------------+------------+-------+--------+---------+-------------+---------+------------+----------+--------+----+--------+---------+-----------+-----+------------+-------------+----------------+------------+---------------+------------+--------------------+--------------------+----------------+----------------+---------------+---------------+---------------+----------------+---------------------+-----------------+------------+-----------+--------------------+----------------------+-------------------------+---------------------+---------------------------+----------------------+-------------------+-------+------------------+-------------------+------------------------------+-----------------+-----------+--------+\n|                  ID|         Listing Url|     Scrape ID|Last Scraped|                Name|             Summary|               Space|         Description|Experiences Offered|Neighborhood Overview|               Notes|             Transit|              Access|         Interaction|         House Rules|       Thumbnail Url|          Medium Url|         Picture Url|      XL Picture Url| Host ID|            Host URL|        Host Name|       Host Since|       Host Location|          Host About|Host Response Time|Host Response Rate|Host Acceptance Rate|Host Thumbnail Url|Host Picture Url|  Host Neighbourhood|Host Listings Count|Host Total Listings Count|Host Verifications|Street|Neighbourhood|Neighbourhood Cleansed|Neighbourhood Group Cleansed|City|State|Zipcode|     Market|Smart Location|Country Code|Country|Latitude|Longitude|Property Type|Room Type|Accommodates| Bathrooms|Bedrooms|Beds|Bed Type|Amenities|Square Feet|Price|Weekly Price|Monthly Price|Security Deposit|Cleaning Fee|Guests Included|Extra People|      Minimum Nights|      Maximum Nights|Calendar Updated|Has Availability|Availability 30|Availability 60|Availability 90|Availability 365|Calendar last Scraped|Number of Reviews|First Review|Last Review|Review Scores Rating|Review Scores Accuracy|Review Scores Cleanliness|Review Scores Checkin|Review Scores Communication|Review Scores Location|Review Scores Value|License|Jurisdiction Names|Cancellation Policy|Calculated host listings count|Reviews per Month|Geolocation|Features|\n+--------------------+--------------------+--------------+------------+--------------------+--------------------+--------------------+--------------------+-------------------+---------------------+--------------------+--------------------+--------------------+--------------------+--------------------+--------------------+--------------------+--------------------+--------------------+--------+--------------------+-----------------+-----------------+--------------------+--------------------+------------------+------------------+--------------------+------------------+----------------+--------------------+-------------------+-------------------------+------------------+------+-------------+----------------------+----------------------------+----+-----+-------+-----------+--------------+------------+-------+--------+---------+-------------+---------+------------+----------+--------+----+--------+---------+-----------+-----+------------+-------------+----------------+------------+---------------+------------+--------------------+--------------------+----------------+----------------+---------------+---------------+---------------+----------------+---------------------+-----------------+------------+-----------+--------------------+----------------------+-------------------------+---------------------+---------------------------+----------------------+-------------------+-------+------------------+-------------------+------------------------------+-----------------+-----------+--------+\n|             4008728|https://www.airbn...|20170402075052|  2017-04-02|Luxurious 3 bedro...|‪This luxurious a...|In the heart of h...|‪This luxurious a...|               none| There is a wide v...|Perfect location ...|                NULL|                NULL|                NULL|I expect you to t...|https://a0.muscac...|https://a0.muscac...|https://public.op...|https://a0.muscac...|20786453|https://www.airbn...|           Lithal|       2014-09-01|Amsterdam, North ...|Hi there! As I lo...|              NULL|              NULL|                NULL|              NULL|            NULL|                NULL|               NULL|                     NULL|              NULL|  NULL|         NULL|                  NULL|                        NULL|NULL| NULL|   NULL|       NULL|          NULL|        NULL|   NULL|    NULL|     NULL|         NULL|     NULL|        NULL|      NULL|    NULL|NULL|    NULL|     NULL|       NULL| NULL|        NULL|         NULL|            NULL|        NULL|           NULL|        NULL|                NULL|                NULL|            NULL|            NULL|           NULL|           NULL|           NULL|            NULL|                 NULL|             NULL|        NULL|       NULL|                NULL|                  NULL|                     NULL|                 NULL|                       NULL|                  NULL|               NULL|   NULL|              NULL|               NULL|                          NULL|             NULL|       NULL|    NULL|\n| Also very important| to stay in an ap...|          NULL|        NULL|                NULL|                NULL|                NULL|                NULL|               NULL|                 NULL|                NULL|                NULL|                NULL|                NULL|                NULL|                NULL|                NULL|                NULL|                NULL|    NULL|                NULL|             NULL|             NULL|                NULL|                NULL|              NULL|              NULL|                NULL|              NULL|            NULL|                NULL|               NULL|                     NULL|              NULL|  NULL|         NULL|                  NULL|                        NULL|NULL| NULL|   NULL|       NULL|          NULL|        NULL|   NULL|    NULL|     NULL|         NULL|     NULL|        NULL|      NULL|    NULL|NULL|    NULL|     NULL|       NULL| NULL|        NULL|         NULL|            NULL|        NULL|           NULL|        NULL|                NULL|                NULL|            NULL|            NULL|           NULL|           NULL|           NULL|            NULL|                 NULL|             NULL|        NULL|       NULL|                NULL|                  NULL|                     NULL|                 NULL|                       NULL|                  NULL|               NULL|   NULL|              NULL|               NULL|                          NULL|             NULL|       NULL|    NULL|\n|As I'm in between...|                NULL|          NULL|        NULL|                NULL|                NULL|                NULL|                NULL|               NULL|                 NULL|                NULL|                NULL|                NULL|                NULL|                NULL|                NULL|                NULL|                NULL|                NULL|    NULL|                NULL|             NULL|             NULL|                NULL|                NULL|              NULL|              NULL|                NULL|              NULL|            NULL|                NULL|               NULL|                     NULL|              NULL|  NULL|         NULL|                  NULL|                        NULL|NULL| NULL|   NULL|       NULL|          NULL|        NULL|   NULL|    NULL|     NULL|         NULL|     NULL|        NULL|      NULL|    NULL|NULL|    NULL|     NULL|       NULL| NULL|        NULL|         NULL|            NULL|        NULL|           NULL|        NULL|                NULL|                NULL|            NULL|            NULL|           NULL|           NULL|           NULL|            NULL|                 NULL|             NULL|        NULL|       NULL|                NULL|                  NULL|                     NULL|                 NULL|                       NULL|                  NULL|               NULL|   NULL|              NULL|               NULL|                          NULL|             NULL|       NULL|    NULL|\n|So I'm going to m...|        within a day|            50|        NULL|https://a0.muscac...|https://a0.muscac...|            Oud-West|                   1|                  1| email,phone,faceb...|Oud-West, Amsterd...|            Oud-West|De Baarsjes - Oud...|                NULL|           Amsterdam|       North Holland|             1054 AA|           Amsterdam|Amsterdam, Nether...|      NL|         Netherlands|52.36523660409065|4.878249575101092|           Apartment|     Entire home/apt|                 6|               1.0|                   3|                 3|        Real Bed|TV,Internet,Wirel...|               NULL|                      600|              NULL|  6000|          500|                    50|                           4|  50|    2|   1125|3 weeks ago|          NULL|          14|     44|      74|       74|   2017-04-02|       31|  2015-08-02|2016-11-27|      89|   9|       8|        9|         10|   10|           9|         NULL|       Amsterdam|      strict|              1|        1.52|52.36523660409065...|Host Has Profile ...|            NULL|            NULL|           NULL|           NULL|           NULL|            NULL|                 NULL|             NULL|        NULL|       NULL|                NULL|                  NULL|                     NULL|                 NULL|                       NULL|                  NULL|               NULL|   NULL|              NULL|               NULL|                          NULL|             NULL|       NULL|    NULL|\n|             7778612|https://www.airbn...|20170402075052|  2017-04-02|Luxury apartment ...|Beautiful, large ...|1 living room 1 d...|Beautiful, large ...|               none| Within a few minu...|                NULL|Public transport ...|                NULL|You'll have the a...|no smoking inside...|                NULL|                NULL|https://public.op...|                NULL|11964927|https://www.airbn...|             Hein|       2014-02-05|Amsterdam, North ...|I live together w...|              NULL|              NULL|                NULL|              NULL|            NULL|                NULL|               NULL|                     NULL|              NULL|  NULL|         NULL|                  NULL|                        NULL|NULL| NULL|   NULL|       NULL|          NULL|        NULL|   NULL|    NULL|     NULL|         NULL|     NULL|        NULL|      NULL|    NULL|NULL|    NULL|     NULL|       NULL| NULL|        NULL|         NULL|            NULL|        NULL|           NULL|        NULL|                NULL|                NULL|            NULL|            NULL|           NULL|           NULL|           NULL|            NULL|                 NULL|             NULL|        NULL|       NULL|                NULL|                  NULL|                     NULL|                 NULL|                       NULL|                  NULL|               NULL|   NULL|              NULL|               NULL|                          NULL|             NULL|       NULL|    NULL|\n+--------------------+--------------------+--------------+------------+--------------------+--------------------+--------------------+--------------------+-------------------+---------------------+--------------------+--------------------+--------------------+--------------------+--------------------+--------------------+--------------------+--------------------+--------------------+--------+--------------------+-----------------+-----------------+--------------------+--------------------+------------------+------------------+--------------------+------------------+----------------+--------------------+-------------------+-------------------------+------------------+------+-------------+----------------------+----------------------------+----+-----+-------+-----------+--------------+------------+-------+--------+---------+-------------+---------+------------+----------+--------+----+--------+---------+-----------+-----+------------+-------------+----------------+------------+---------------+------------+--------------------+--------------------+----------------+----------------+---------------+---------------+---------------+----------------+---------------------+-----------------+------------+-----------+--------------------+----------------------+-------------------------+---------------------+---------------------------+----------------------+-------------------+-------+------------------+-------------------+------------------------------+-----------------+-----------+--------+\nonly showing top 5 rows\n\n"
     ]
    }
   ],
   "source": [
    "# Contar el número total de registros\n",
    "df.count()\n",
    "\n",
    "# Obtener el esquema del dataset para entender qué columnas utilizar para particionar\n",
    "df.printSchema()\n",
    "\n",
    "# Mostrar las primeras filas del dataset para análisis visual\n",
    "df.show(5)\n"
   ]
  },
  {
   "cell_type": "code",
   "execution_count": 0,
   "metadata": {
    "application/vnd.databricks.v1+cell": {
     "cellMetadata": {
      "byteLimit": 2048000,
      "rowLimit": 10000
     },
     "inputWidgets": {},
     "nuid": "0862ded3-6edd-4ff2-8ade-7bc66b292ddd",
     "showTitle": false,
     "title": ""
    }
   },
   "outputs": [
    {
     "output_type": "execute_result",
     "data": {
      "text/plain": [
       "['ID',\n",
       " 'Listing Url',\n",
       " 'Scrape ID',\n",
       " 'Last Scraped',\n",
       " 'Name',\n",
       " 'Summary',\n",
       " 'Space',\n",
       " 'Description',\n",
       " 'Experiences Offered',\n",
       " 'Neighborhood Overview',\n",
       " 'Notes',\n",
       " 'Transit',\n",
       " 'Access',\n",
       " 'Interaction',\n",
       " 'House Rules',\n",
       " 'Thumbnail Url',\n",
       " 'Medium Url',\n",
       " 'Picture Url',\n",
       " 'XL Picture Url',\n",
       " 'Host ID',\n",
       " 'Host URL',\n",
       " 'Host Name',\n",
       " 'Host Since',\n",
       " 'Host Location',\n",
       " 'Host About',\n",
       " 'Host Response Time',\n",
       " 'Host Response Rate',\n",
       " 'Host Acceptance Rate',\n",
       " 'Host Thumbnail Url',\n",
       " 'Host Picture Url',\n",
       " 'Host Neighbourhood',\n",
       " 'Host Listings Count',\n",
       " 'Host Total Listings Count',\n",
       " 'Host Verifications',\n",
       " 'Street',\n",
       " 'Neighbourhood',\n",
       " 'Neighbourhood Cleansed',\n",
       " 'Neighbourhood Group Cleansed',\n",
       " 'City',\n",
       " 'State',\n",
       " 'Zipcode',\n",
       " 'Market',\n",
       " 'Smart Location',\n",
       " 'Country Code',\n",
       " 'Country',\n",
       " 'Latitude',\n",
       " 'Longitude',\n",
       " 'Property Type',\n",
       " 'Room Type',\n",
       " 'Accommodates',\n",
       " 'Bathrooms',\n",
       " 'Bedrooms',\n",
       " 'Beds',\n",
       " 'Bed Type',\n",
       " 'Amenities',\n",
       " 'Square Feet',\n",
       " 'Price',\n",
       " 'Weekly Price',\n",
       " 'Monthly Price',\n",
       " 'Security Deposit',\n",
       " 'Cleaning Fee',\n",
       " 'Guests Included',\n",
       " 'Extra People',\n",
       " 'Minimum Nights',\n",
       " 'Maximum Nights',\n",
       " 'Calendar Updated',\n",
       " 'Has Availability',\n",
       " 'Availability 30',\n",
       " 'Availability 60',\n",
       " 'Availability 90',\n",
       " 'Availability 365',\n",
       " 'Calendar last Scraped',\n",
       " 'Number of Reviews',\n",
       " 'First Review',\n",
       " 'Last Review',\n",
       " 'Review Scores Rating',\n",
       " 'Review Scores Accuracy',\n",
       " 'Review Scores Cleanliness',\n",
       " 'Review Scores Checkin',\n",
       " 'Review Scores Communication',\n",
       " 'Review Scores Location',\n",
       " 'Review Scores Value',\n",
       " 'License',\n",
       " 'Jurisdiction Names',\n",
       " 'Cancellation Policy',\n",
       " 'Calculated host listings count',\n",
       " 'Reviews per Month',\n",
       " 'Geolocation',\n",
       " 'Features']"
      ]
     },
     "execution_count": 21,
     "metadata": {},
     "output_type": "execute_result"
    }
   ],
   "source": [
    "df.columns\n"
   ]
  },
  {
   "cell_type": "markdown",
   "metadata": {
    "application/vnd.databricks.v1+cell": {
     "cellMetadata": {},
     "inputWidgets": {},
     "nuid": "e86865c9-575c-465b-b8b7-fcc5a113e518",
     "showTitle": false,
     "title": ""
    }
   },
   "source": [
    "# Paso 2: Evaluar particionamiento basado en columnas clave\n",
    "Identificar columnas con alta cardinalidad: Selecciona columnas que tienen un número alto de valores únicos (alta cardinalidad) y que frecuentemente se utilizan en los filtros de las consultas. Para este dataset, las columnas relevantes pueden ser:\n",
    "\n",
    "City\n",
    "Property Type\n",
    "Accommodates\n",
    "Price\n",
    "**¿Por qué?:** Columnas con alta cardinalidad permiten un mejor uso del paralelismo, ya que los datos se distribuyen en varias particiones. Columnas con baja cardinalidad (como Room Type o State) podrían generar pocas particiones grandes, lo que limita el beneficio.\n",
    "\n",
    "### Crear particiones basadas en las columnas clave:"
   ]
  },
  {
   "cell_type": "code",
   "execution_count": 0,
   "metadata": {
    "application/vnd.databricks.v1+cell": {
     "cellMetadata": {
      "byteLimit": 2048000,
      "rowLimit": 10000
     },
     "inputWidgets": {},
     "nuid": "fe2b705d-5054-4b30-a227-f3b5e627aa62",
     "showTitle": false,
     "title": ""
    }
   },
   "outputs": [],
   "source": [
    "df_repartitioned = df_cleaned.repartition(\"City\", \"Property Type\", \"Accommodates\")\n",
    "df_repartitioned.write.partitionBy(\"City\", \"Property Type\", \"Accommodates\").mode(\"overwrite\").parquet(\"/mnt/datalake/partitioned_property_data/\")"
   ]
  },
  {
   "cell_type": "markdown",
   "metadata": {
    "application/vnd.databricks.v1+cell": {
     "cellMetadata": {},
     "inputWidgets": {},
     "nuid": "d96ffa4f-6764-4ed7-a13a-3c8ade674d6c",
     "showTitle": false,
     "title": ""
    }
   },
   "source": [
    "**¿Por qué?:** Particionar por columnas como City, Property Type, y Accommodates permite mejorar la velocidad de las consultas que filtran por estas columnas. Cada partición contendrá datos de una combinación única de estas tres columnas, lo que reduce el volumen de datos que Spark necesita leer para consultas filtradas.\n",
    "\n",
    "# Paso 3: Activar Adaptive Query Execution (AQE) y Dynamic Partition Pruning (DPP)\n",
    "### Activar AQE en el clúster de Databricks:"
   ]
  },
  {
   "cell_type": "code",
   "execution_count": 0,
   "metadata": {
    "application/vnd.databricks.v1+cell": {
     "cellMetadata": {
      "byteLimit": 2048000,
      "rowLimit": 10000
     },
     "inputWidgets": {},
     "nuid": "437e50eb-1d50-4959-8071-6db40a1b3533",
     "showTitle": false,
     "title": ""
    }
   },
   "outputs": [],
   "source": [
    "spark.conf.set(\"spark.sql.adaptive.enabled\", \"true\")\n",
    "spark.conf.set(\"spark.sql.adaptive.coalescePartitions.enabled\", \"true\")\n",
    "spark.conf.set(\"spark.sql.adaptive.skewJoin.enabled\", \"true\")\n"
   ]
  },
  {
   "cell_type": "markdown",
   "metadata": {
    "application/vnd.databricks.v1+cell": {
     "cellMetadata": {},
     "inputWidgets": {},
     "nuid": "cf0432ff-bb78-4130-8a40-b119267d0d07",
     "showTitle": false,
     "title": ""
    }
   },
   "source": [
    "**¿Por qué?:** Adaptive Query Execution (AQE) ajusta dinámicamente el número de particiones y optimiza las operaciones de \"shuffle\" en función de los datos procesados durante la ejecución de la consulta. Esto mejora significativamente el rendimiento de las consultas en datasets grandes y distribuidos.\n",
    "\n",
    "### Activar Dynamic Partition Pruning (DPP):"
   ]
  },
  {
   "cell_type": "code",
   "execution_count": 0,
   "metadata": {
    "application/vnd.databricks.v1+cell": {
     "cellMetadata": {},
     "inputWidgets": {},
     "nuid": "19aa7401-6f8a-4913-b9d0-026633186199",
     "showTitle": false,
     "title": ""
    }
   },
   "outputs": [],
   "source": [
    "spark.conf.set(\"spark.sql.optimizer.dynamicPartitionPruning.enabled\", \"true\")\n"
   ]
  },
  {
   "cell_type": "markdown",
   "metadata": {
    "application/vnd.databricks.v1+cell": {
     "cellMetadata": {},
     "inputWidgets": {},
     "nuid": "fcd21787-7fff-4329-871f-ac09a69dd6a3",
     "showTitle": false,
     "title": ""
    }
   },
   "source": [
    "**¿Por qué?:** Dynamic Partition Pruning (DPP) mejora el rendimiento en consultas con joins filtrando dinámicamente las particiones que no contienen datos relevantes durante la ejecución del join. Esto significa que Spark evitará leer particiones innecesarias cuando se aplican filtros en un join, lo que reduce el tiempo de consulta.\n",
    "\n",
    "# Paso 4: Ejecución de consultas y comparación de rendimiento\n",
    "**Consulta sin particionar (baseline):** Ejecuta una consulta simple que filtre por ciudad y tipo de propiedad, pero sin particiones:"
   ]
  },
  {
   "cell_type": "code",
   "execution_count": 0,
   "metadata": {
    "application/vnd.databricks.v1+cell": {
     "cellMetadata": {},
     "inputWidgets": {},
     "nuid": "a0cc5d9d-04ac-4ee6-b03b-5626e6990ee5",
     "showTitle": false,
     "title": ""
    }
   },
   "outputs": [],
   "source": [
    "import time\n",
    "start_time = time.time()\n",
    "df.filter(\"City = 'New York' AND `Property Type` = 'Apartment'\").groupBy(\"Accommodates\").count().show()\n",
    "print(\"--- %s seconds ---\" % (time.time() - start_time))\n"
   ]
  },
  {
   "cell_type": "markdown",
   "metadata": {
    "application/vnd.databricks.v1+cell": {
     "cellMetadata": {},
     "inputWidgets": {},
     "nuid": "3c496968-9ddb-4a01-b1d7-6a3e2c5a4715",
     "showTitle": false,
     "title": ""
    }
   },
   "source": [
    "Mostrar el plan de ejecución y entender cómo Spark ha ajustado el número de particiones o cómo está manejando los \"shuffles\" de datos."
   ]
  },
  {
   "cell_type": "code",
   "execution_count": 0,
   "metadata": {
    "application/vnd.databricks.v1+cell": {
     "cellMetadata": {},
     "inputWidgets": {},
     "nuid": "4fa9a944-4ad4-4966-9bf5-674cdb198a01",
     "showTitle": false,
     "title": ""
    }
   },
   "outputs": [],
   "source": [
    "df.filter(\"City = 'New York' AND `Property Type` = 'Apartment'\").groupBy(\"Accommodates\").count().explain(True)\n"
   ]
  },
  {
   "cell_type": "markdown",
   "metadata": {
    "application/vnd.databricks.v1+cell": {
     "cellMetadata": {},
     "inputWidgets": {},
     "nuid": "1b48b245-98f3-450c-ae48-5399072dda43",
     "showTitle": false,
     "title": ""
    }
   },
   "source": [
    "**¿Por qué?:** Esta consulta muestra el tiempo de ejecución cuando no se aprovechan particiones ni optimizaciones. Sirve como base de comparación.\n",
    "\n",
    "**Consulta con particionamiento y AQE/DPP activado:** Ejecuta la misma consulta después de activar AQE y DPP y haber particionado los datos:"
   ]
  },
  {
   "cell_type": "code",
   "execution_count": 0,
   "metadata": {
    "application/vnd.databricks.v1+cell": {
     "cellMetadata": {},
     "inputWidgets": {},
     "nuid": "cd0b2a6d-14bd-4c37-8fc5-919de030b118",
     "showTitle": false,
     "title": ""
    }
   },
   "outputs": [],
   "source": [
    "df_part = spark.read.parquet(\"/mnt/datalake/partitioned_property_data/\")\n",
    "start_time = time.time()\n",
    "df_part.filter(\"City = 'New York' AND `Property Type` = 'Apartment'\").groupBy(\"Accommodates\").count().show()\n",
    "print(\"--- %s seconds ---\" % (time.time() - start_time))\n"
   ]
  },
  {
   "cell_type": "markdown",
   "metadata": {
    "application/vnd.databricks.v1+cell": {
     "cellMetadata": {},
     "inputWidgets": {},
     "nuid": "b24ea9fb-a78a-4126-a929-955fd9f88ab1",
     "showTitle": false,
     "title": ""
    }
   },
   "source": [
    "Mostrar el plan de ejecución y entender cómo Spark ha ajustado el número de particiones o cómo está manejando los \"shuffles\" de datos."
   ]
  },
  {
   "cell_type": "code",
   "execution_count": 0,
   "metadata": {
    "application/vnd.databricks.v1+cell": {
     "cellMetadata": {},
     "inputWidgets": {},
     "nuid": "e13b7a4a-fb05-4a11-ab26-a07619d4b901",
     "showTitle": false,
     "title": ""
    }
   },
   "outputs": [],
   "source": [
    "df_cleaned.filter(\"City = 'New York' AND `Property Type` = 'Apartment'\").groupBy(\"Accommodates\").count().explain(True)\n"
   ]
  },
  {
   "cell_type": "markdown",
   "metadata": {
    "application/vnd.databricks.v1+cell": {
     "cellMetadata": {},
     "inputWidgets": {},
     "nuid": "faa037dd-f9cf-4719-be30-843450c0db57",
     "showTitle": false,
     "title": ""
    }
   },
   "source": [
    "**¿Por qué?:** Esta consulta debería ser más rápida que la consulta baseline, ya que Spark solo leerá las particiones que contienen datos de New York y Apartment. AQE y DPP también optimizan el número de particiones y eliminan las particiones no necesarias durante la ejecución del join."
   ]
  },
  {
   "cell_type": "markdown",
   "metadata": {
    "application/vnd.databricks.v1+cell": {
     "cellMetadata": {},
     "inputWidgets": {},
     "nuid": "995056d1-9525-4852-ae5d-a7b1533dbc28",
     "showTitle": false,
     "title": ""
    }
   },
   "source": [
    "# Paso 5: Monitoreo del rendimiento y ajustes\n",
    "# Usar Spark UI para analizar el impacto del particionamiento:\n",
    "\n",
    "Ve a la Spark UI para analizar cuántas particiones se procesaron y cuánto tiempo tardaron las operaciones de \"shuffle\".\n",
    "# Uso de Ganglia Metrics:\n",
    "\n",
    "Monitorea el uso de CPU, memoria y disco en Ganglia Metrics para ver cómo las particiones afectan el uso de recursos. Un buen particionamiento reducirá la carga de memoria y CPU.\n",
    "# Ajustes:\n",
    "\n",
    "Si las particiones generadas son muy pequeñas o muy grandes, ajusta el número de particiones con coalesce o repartition para optimizar el tamaño de los archivos y el número de particiones procesadas por Spark."
   ]
  }
 ],
 "metadata": {
  "application/vnd.databricks.v1+notebook": {
   "dashboards": [],
   "environmentMetadata": null,
   "language": "python",
   "notebookMetadata": {
    "pythonIndentUnit": 4
   },
   "notebookName": "Lab2",
   "widgets": {}
  }
 },
 "nbformat": 4,
 "nbformat_minor": 0
}
